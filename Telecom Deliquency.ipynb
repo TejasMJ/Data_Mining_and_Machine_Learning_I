{
 "cells": [
  {
   "cell_type": "code",
   "execution_count": 27,
   "id": "dc81be5a",
   "metadata": {},
   "outputs": [],
   "source": [
    "import numpy as np\n",
    "import pandas as pd\n",
    "import warnings \n",
    "warnings.filterwarnings('ignore')\n",
    "import seaborn as sns\n",
    "from scipy.stats import zscore\n",
    "import matplotlib.pyplot as plt"
   ]
  },
  {
   "cell_type": "code",
   "execution_count": 28,
   "id": "285e2889",
   "metadata": {},
   "outputs": [],
   "source": [
    "data=pd.read_csv('sample_data_intw.csv')"
   ]
  },
  {
   "cell_type": "code",
   "execution_count": 29,
   "id": "a655c501",
   "metadata": {},
   "outputs": [
    {
     "name": "stdout",
     "output_type": "stream",
     "text": [
      "Number of Columns in the Dataset are :  36\n",
      "\n",
      "Number of Columns in the Dataset are :  209593\n"
     ]
    }
   ],
   "source": [
    "print(\"Number of Columns in the Dataset are : \", data.shape[1])\n",
    "print(\"\\nNumber of Columns in the Dataset are : \", data.shape[0])"
   ]
  },
  {
   "cell_type": "code",
   "execution_count": 30,
   "id": "92c38753",
   "metadata": {},
   "outputs": [
    {
     "name": "stdout",
     "output_type": "stream",
     "text": [
      "\n",
      "Datatypes of the Columns\n",
      "--------------------------------\n",
      "\n",
      "Columns with 'int' datatype : \n",
      "label\n",
      "last_rech_amt_ma\n",
      "cnt_ma_rech30\n",
      "cnt_ma_rech90\n",
      "fr_ma_rech90\n",
      "sumamnt_ma_rech90\n",
      "cnt_da_rech90\n",
      "fr_da_rech90\n",
      "cnt_loans30\n",
      "amnt_loans30\n",
      "amnt_loans90\n",
      "maxamnt_loans90\n",
      "\n",
      "--------------------------------\n",
      "Columns with 'float' datatype : \n",
      "aon\n",
      "daily_decr30\n",
      "daily_decr90\n",
      "rental30\n",
      "rental90\n",
      "last_rech_date_ma\n",
      "last_rech_date_da\n",
      "fr_ma_rech30\n",
      "sumamnt_ma_rech30\n",
      "medianamnt_ma_rech30\n",
      "medianmarechprebal30\n",
      "medianamnt_ma_rech90\n",
      "medianmarechprebal90\n",
      "cnt_da_rech30\n",
      "fr_da_rech30\n",
      "maxamnt_loans30\n",
      "medianamnt_loans30\n",
      "cnt_loans90\n",
      "medianamnt_loans90\n",
      "payback30\n",
      "payback90\n",
      "\n",
      "--------------------------------\n",
      "Columns with 'String' datatype : \n",
      "msisdn\n",
      "pcircle\n",
      "pdate\n"
     ]
    }
   ],
   "source": [
    "print(\"\\nDatatypes of the Columns\")\n",
    "print('--------------------------------')\n",
    "print(\"\\nColumns with 'int' datatype : \")\n",
    "for i in list(data.select_dtypes(include=['int64']).columns):\n",
    "    print(i)\n",
    "\n",
    "print('\\n--------------------------------')\n",
    "print(\"Columns with 'float' datatype : \")\n",
    "for f in list(data.select_dtypes(include=['float64']).columns):\n",
    "    print(f)\n",
    "\n",
    "print('\\n--------------------------------')\n",
    "print(\"Columns with 'String' datatype : \")\n",
    "for s in list(data.select_dtypes(include=['object']).columns):\n",
    "    print(s)"
   ]
  },
  {
   "cell_type": "code",
   "execution_count": 31,
   "id": "e3dd5b33",
   "metadata": {},
   "outputs": [
    {
     "name": "stdout",
     "output_type": "stream",
     "text": [
      "Total no. of Columns with Missing/NA Values :  0\n",
      "\n",
      "Name of the Columns with Missing Values : \n"
     ]
    }
   ],
   "source": [
    "Missing_cloumns = data.columns[data.isnull().any()]\n",
    "print(\"Total no. of Columns with Missing/NA Values : \", len(Missing_cloumns))\n",
    "print(\"\\nName of the Columns with Missing Values : \")\n",
    "for i in Missing_cloumns:\n",
    "      print(i)"
   ]
  },
  {
   "cell_type": "code",
   "execution_count": 32,
   "id": "f8a3fe44",
   "metadata": {},
   "outputs": [],
   "source": [
    "#As the features are that not important\n",
    "data.drop(['msisdn', 'pcircle', 'pdate'],axis=1,inplace=True)"
   ]
  },
  {
   "cell_type": "markdown",
   "id": "542a3caf",
   "metadata": {},
   "source": [
    "## EDA"
   ]
  },
  {
   "cell_type": "code",
   "execution_count": 33,
   "id": "6c8db00f",
   "metadata": {},
   "outputs": [],
   "source": [
    "eda_data = data.copy()"
   ]
  },
  {
   "cell_type": "code",
   "execution_count": 34,
   "id": "97997e33",
   "metadata": {},
   "outputs": [],
   "source": [
    "l = [eda_data]\n",
    "for column in l:\n",
    "    column.loc[column[\"rental30\"] <= 0,  'balance_group'] = 'no balance'\n",
    "    column.loc[(column[\"rental30\"] > 0) & (column[\"rental30\"] <= 19766), 'balance_group'] = 'low balance'\n",
    "    column.loc[(column[\"rental30\"] > 19766) & (column[\"rental30\"] <= 118572), 'balance_group'] = 'average balance'\n",
    "    column.loc[(column[\"rental30\"] > 118572), 'balance_group'] = 'high balance'"
   ]
  },
  {
   "cell_type": "code",
   "execution_count": 35,
   "id": "a1e3ffdd",
   "metadata": {},
   "outputs": [],
   "source": [
    "count_balance_response_pct = pd.crosstab(eda_data['label'],eda_data['balance_group']).apply(lambda x: x/x.sum() * 100)\n",
    "count_balance_response_pct = count_balance_response_pct.transpose()"
   ]
  },
  {
   "cell_type": "code",
   "execution_count": 36,
   "id": "2b38e53c",
   "metadata": {},
   "outputs": [],
   "source": [
    "bal = pd.DataFrame(eda_data['balance_group'].value_counts())\n",
    "#bal['% Contacted'] = bal['balance_group']*100/bal['balance_group'].sum()\n",
    "bal['% Subscription'] = count_balance_response_pct[1]\n",
    "bal.drop('balance_group',axis = 1,inplace = True)\n",
    "\n",
    "bal['bal'] = [1,2,0,3]\n",
    "bal = bal.sort_values('bal',ascending = True)"
   ]
  },
  {
   "cell_type": "code",
   "execution_count": 48,
   "id": "118c76c7",
   "metadata": {},
   "outputs": [
    {
     "data": {
      "image/png": "[encoded data removed]",
      "text/plain": [
       "<Figure size 576x432 with 1 Axes>"
      ]
     },
     "metadata": {
      "needs_background": "light"
     },
     "output_type": "display_data"
    }
   ],
   "source": [
    "plot_balance = bal['% Subscription'].plot(kind = 'bar',\n",
    "                                               color = ('green'),\n",
    "                                               figsize = (8,6))\n",
    "\n",
    "plt.title('Average main balance account vs loan pay back rate with in 5 days')\n",
    "plt.ylabel('Loan pay back rate with in 5 days')\n",
    "plt.xlabel('Balance Category (rental30)')\n",
    "plt.xticks(rotation = 'horizontal')\n",
    "\n",
    "# label the bar\n",
    "for rec, label in zip(plot_balance.patches,\n",
    "                      bal['% Subscription'].round(1).astype(str)):\n",
    "    plot_balance.text(rec.get_x() + rec.get_width()/2, \n",
    "                      rec.get_height() + 1, \n",
    "                      label+'%',  \n",
    "                      ha = 'center', \n",
    "                      color = 'black')"
   ]
  },
  {
   "cell_type": "code",
   "execution_count": 38,
   "id": "1ded6ed0",
   "metadata": {},
   "outputs": [],
   "source": [
    "l = [eda_data]\n",
    "for column in l:\n",
    "    column.loc[column[\"amnt_loans30\"] <=0,  'loanamnt_frequency_group'] = 'no loans'\n",
    "    column.loc[(column['amnt_loans30'] > 0) & (column['amnt_loans30'] <=6 ), 'loanamnt_frequency_group'] = 'low amnt of loans'\n",
    "    column.loc[(column['amnt_loans30'] >6) & (column['amnt_loans30'] <=24), 'loanamnt_frequency_group'] = 'medium amnt of loans'\n",
    "    column.loc[(column['amnt_loans30'] >24), 'loanamnt_frequency_group'] = 'high amnt of loans'"
   ]
  },
  {
   "cell_type": "code",
   "execution_count": 39,
   "id": "bc10873a",
   "metadata": {},
   "outputs": [],
   "source": [
    "count_loanamnt_response_pct = pd.crosstab(eda_data['label'],eda_data['loanamnt_frequency_group']).apply(lambda x: x/x.sum() * 100)\n",
    "count_loanamnt_response_pct = count_loanamnt_response_pct.transpose()"
   ]
  },
  {
   "cell_type": "code",
   "execution_count": 40,
   "id": "2762063e",
   "metadata": {},
   "outputs": [],
   "source": [
    "fre1 = pd.DataFrame(eda_data['loanamnt_frequency_group'].value_counts())\n",
    "#bal['% Contacted'] = bal['balance_group']*100/bal['balance_group'].sum()\n",
    "fre1['% Subscription'] = count_loanamnt_response_pct[1]\n",
    "fre1.drop('loanamnt_frequency_group',axis = 1,inplace = True)\n",
    "\n",
    "fre1['fre1'] = [1,2,0,3]\n",
    "fre1= fre1.sort_values('fre1',ascending = True)"
   ]
  },
  {
   "cell_type": "code",
   "execution_count": 41,
   "id": "82d9783d",
   "metadata": {},
   "outputs": [
    {
     "data": {
      "image/png": "[encoded data removed]",
      "text/plain": [
       "<Figure size 576x432 with 1 Axes>"
      ]
     },
     "metadata": {
      "needs_background": "light"
     },
     "output_type": "display_data"
    }
   ],
   "source": [
    "plot_fre1 = fre1['% Subscription'].plot(kind = 'bar',\n",
    "                                               color = ('royalblue'), figsize = (8,6))\n",
    "\n",
    "plt.title('Total amount of loans taken by user in last 30 days vs loan pay back rate with in 5 days')\n",
    "plt.ylabel('Loan pay back rate with in 5 days')\n",
    "plt.xlabel('Total amount of loans (amnt_loans30)')\n",
    "plt.xticks(rotation = 'horizontal')\n",
    "\n",
    "# label the bar\n",
    "for rec, label in zip(plot_fre1.patches,\n",
    "                      fre1['% Subscription'].round(1).astype(str)):\n",
    "    plot_fre1.text(rec.get_x() + rec.get_width()/2, \n",
    "                      rec.get_height() + 1, \n",
    "                      label+'%',  \n",
    "                      ha = 'center', \n",
    "                      color = 'black')"
   ]
  },
  {
   "cell_type": "markdown",
   "id": "a1e34253",
   "metadata": {},
   "source": [
    "## Checking Correaltions"
   ]
  },
  {
   "cell_type": "code",
   "execution_count": 16,
   "id": "7733910a",
   "metadata": {},
   "outputs": [
    {
     "data": {
      "text/html": [
       "<div>\n",
       "<style scoped>\n",
       "    .dataframe tbody tr th:only-of-type {\n",
       "        vertical-align: middle;\n",
       "    }\n",
       "\n",
       "    .dataframe tbody tr th {\n",
       "        vertical-align: top;\n",
       "    }\n",
       "\n",
       "    .dataframe thead th {\n",
       "        text-align: right;\n",
       "    }\n",
       "</style>\n",
       "<table border=\"1\" class=\"dataframe\">\n",
       "  <thead>\n",
       "    <tr style=\"text-align: right;\">\n",
       "      <th></th>\n",
       "      <th>label</th>\n",
       "      <th>aon</th>\n",
       "      <th>daily_decr30</th>\n",
       "      <th>daily_decr90</th>\n",
       "      <th>rental30</th>\n",
       "      <th>rental90</th>\n",
       "      <th>last_rech_date_ma</th>\n",
       "      <th>last_rech_date_da</th>\n",
       "      <th>last_rech_amt_ma</th>\n",
       "      <th>cnt_ma_rech30</th>\n",
       "      <th>...</th>\n",
       "      <th>cnt_loans30</th>\n",
       "      <th>amnt_loans30</th>\n",
       "      <th>maxamnt_loans30</th>\n",
       "      <th>medianamnt_loans30</th>\n",
       "      <th>cnt_loans90</th>\n",
       "      <th>amnt_loans90</th>\n",
       "      <th>maxamnt_loans90</th>\n",
       "      <th>medianamnt_loans90</th>\n",
       "      <th>payback30</th>\n",
       "      <th>payback90</th>\n",
       "    </tr>\n",
       "  </thead>\n",
       "  <tbody>\n",
       "    <tr>\n",
       "      <th>label</th>\n",
       "      <td>1.000000</td>\n",
       "      <td>-0.003785</td>\n",
       "      <td>0.168298</td>\n",
       "      <td>0.166150</td>\n",
       "      <td>0.058085</td>\n",
       "      <td>0.075521</td>\n",
       "      <td>0.003728</td>\n",
       "      <td>0.001711</td>\n",
       "      <td>0.131804</td>\n",
       "      <td>0.237331</td>\n",
       "      <td>...</td>\n",
       "      <td>0.196283</td>\n",
       "      <td>0.197272</td>\n",
       "      <td>0.000248</td>\n",
       "      <td>0.044589</td>\n",
       "      <td>0.004733</td>\n",
       "      <td>0.199788</td>\n",
       "      <td>0.084144</td>\n",
       "      <td>0.035747</td>\n",
       "      <td>0.048336</td>\n",
       "      <td>0.049183</td>\n",
       "    </tr>\n",
       "    <tr>\n",
       "      <th>aon</th>\n",
       "      <td>-0.003785</td>\n",
       "      <td>1.000000</td>\n",
       "      <td>0.001104</td>\n",
       "      <td>0.000374</td>\n",
       "      <td>-0.000960</td>\n",
       "      <td>-0.000790</td>\n",
       "      <td>0.001692</td>\n",
       "      <td>-0.001693</td>\n",
       "      <td>0.004256</td>\n",
       "      <td>-0.003148</td>\n",
       "      <td>...</td>\n",
       "      <td>-0.001826</td>\n",
       "      <td>-0.001726</td>\n",
       "      <td>-0.002764</td>\n",
       "      <td>0.004664</td>\n",
       "      <td>-0.000611</td>\n",
       "      <td>-0.002319</td>\n",
       "      <td>-0.001191</td>\n",
       "      <td>0.002771</td>\n",
       "      <td>0.001940</td>\n",
       "      <td>0.002203</td>\n",
       "    </tr>\n",
       "    <tr>\n",
       "      <th>daily_decr30</th>\n",
       "      <td>0.168298</td>\n",
       "      <td>0.001104</td>\n",
       "      <td>1.000000</td>\n",
       "      <td>0.977704</td>\n",
       "      <td>0.442066</td>\n",
       "      <td>0.458977</td>\n",
       "      <td>0.000487</td>\n",
       "      <td>-0.001636</td>\n",
       "      <td>0.275837</td>\n",
       "      <td>0.451385</td>\n",
       "      <td>...</td>\n",
       "      <td>0.366116</td>\n",
       "      <td>0.471492</td>\n",
       "      <td>-0.000028</td>\n",
       "      <td>-0.011610</td>\n",
       "      <td>0.008962</td>\n",
       "      <td>0.563496</td>\n",
       "      <td>0.400199</td>\n",
       "      <td>-0.037305</td>\n",
       "      <td>0.026915</td>\n",
       "      <td>0.047175</td>\n",
       "    </tr>\n",
       "    <tr>\n",
       "      <th>daily_decr90</th>\n",
       "      <td>0.166150</td>\n",
       "      <td>0.000374</td>\n",
       "      <td>0.977704</td>\n",
       "      <td>1.000000</td>\n",
       "      <td>0.434685</td>\n",
       "      <td>0.471730</td>\n",
       "      <td>0.000908</td>\n",
       "      <td>-0.001886</td>\n",
       "      <td>0.264131</td>\n",
       "      <td>0.426707</td>\n",
       "      <td>...</td>\n",
       "      <td>0.340387</td>\n",
       "      <td>0.447869</td>\n",
       "      <td>0.000025</td>\n",
       "      <td>-0.005591</td>\n",
       "      <td>0.009446</td>\n",
       "      <td>0.567204</td>\n",
       "      <td>0.397251</td>\n",
       "      <td>-0.034686</td>\n",
       "      <td>0.019400</td>\n",
       "      <td>0.040800</td>\n",
       "    </tr>\n",
       "    <tr>\n",
       "      <th>rental30</th>\n",
       "      <td>0.058085</td>\n",
       "      <td>-0.000960</td>\n",
       "      <td>0.442066</td>\n",
       "      <td>0.434685</td>\n",
       "      <td>1.000000</td>\n",
       "      <td>0.955237</td>\n",
       "      <td>-0.001095</td>\n",
       "      <td>0.003261</td>\n",
       "      <td>0.127271</td>\n",
       "      <td>0.233343</td>\n",
       "      <td>...</td>\n",
       "      <td>0.180203</td>\n",
       "      <td>0.233453</td>\n",
       "      <td>-0.000864</td>\n",
       "      <td>-0.016482</td>\n",
       "      <td>0.004012</td>\n",
       "      <td>0.298943</td>\n",
       "      <td>0.234211</td>\n",
       "      <td>-0.035489</td>\n",
       "      <td>0.072974</td>\n",
       "      <td>0.095147</td>\n",
       "    </tr>\n",
       "    <tr>\n",
       "      <th>rental90</th>\n",
       "      <td>0.075521</td>\n",
       "      <td>-0.000790</td>\n",
       "      <td>0.458977</td>\n",
       "      <td>0.471730</td>\n",
       "      <td>0.955237</td>\n",
       "      <td>1.000000</td>\n",
       "      <td>-0.001688</td>\n",
       "      <td>0.002794</td>\n",
       "      <td>0.121416</td>\n",
       "      <td>0.230260</td>\n",
       "      <td>...</td>\n",
       "      <td>0.171595</td>\n",
       "      <td>0.231906</td>\n",
       "      <td>-0.001411</td>\n",
       "      <td>-0.009467</td>\n",
       "      <td>0.005141</td>\n",
       "      <td>0.327436</td>\n",
       "      <td>0.251029</td>\n",
       "      <td>-0.034122</td>\n",
       "      <td>0.067110</td>\n",
       "      <td>0.099501</td>\n",
       "    </tr>\n",
       "    <tr>\n",
       "      <th>last_rech_date_ma</th>\n",
       "      <td>0.003728</td>\n",
       "      <td>0.001692</td>\n",
       "      <td>0.000487</td>\n",
       "      <td>0.000908</td>\n",
       "      <td>-0.001095</td>\n",
       "      <td>-0.001688</td>\n",
       "      <td>1.000000</td>\n",
       "      <td>0.001790</td>\n",
       "      <td>-0.000147</td>\n",
       "      <td>0.004311</td>\n",
       "      <td>...</td>\n",
       "      <td>0.001193</td>\n",
       "      <td>0.000903</td>\n",
       "      <td>0.000928</td>\n",
       "      <td>0.001835</td>\n",
       "      <td>-0.000225</td>\n",
       "      <td>0.000870</td>\n",
       "      <td>-0.001123</td>\n",
       "      <td>0.002771</td>\n",
       "      <td>-0.002233</td>\n",
       "      <td>-0.001583</td>\n",
       "    </tr>\n",
       "    <tr>\n",
       "      <th>last_rech_date_da</th>\n",
       "      <td>0.001711</td>\n",
       "      <td>-0.001693</td>\n",
       "      <td>-0.001636</td>\n",
       "      <td>-0.001886</td>\n",
       "      <td>0.003261</td>\n",
       "      <td>0.002794</td>\n",
       "      <td>0.001790</td>\n",
       "      <td>1.000000</td>\n",
       "      <td>-0.000149</td>\n",
       "      <td>0.001549</td>\n",
       "      <td>...</td>\n",
       "      <td>0.000380</td>\n",
       "      <td>0.000536</td>\n",
       "      <td>0.000503</td>\n",
       "      <td>0.000061</td>\n",
       "      <td>-0.000972</td>\n",
       "      <td>0.000519</td>\n",
       "      <td>0.001524</td>\n",
       "      <td>-0.002239</td>\n",
       "      <td>0.000077</td>\n",
       "      <td>0.000417</td>\n",
       "    </tr>\n",
       "    <tr>\n",
       "      <th>last_rech_amt_ma</th>\n",
       "      <td>0.131804</td>\n",
       "      <td>0.004256</td>\n",
       "      <td>0.275837</td>\n",
       "      <td>0.264131</td>\n",
       "      <td>0.127271</td>\n",
       "      <td>0.121416</td>\n",
       "      <td>-0.000147</td>\n",
       "      <td>-0.000149</td>\n",
       "      <td>1.000000</td>\n",
       "      <td>-0.002662</td>\n",
       "      <td>...</td>\n",
       "      <td>-0.027612</td>\n",
       "      <td>0.008502</td>\n",
       "      <td>0.001000</td>\n",
       "      <td>0.028370</td>\n",
       "      <td>0.000093</td>\n",
       "      <td>0.014067</td>\n",
       "      <td>0.148460</td>\n",
       "      <td>0.021004</td>\n",
       "      <td>-0.027369</td>\n",
       "      <td>-0.014260</td>\n",
       "    </tr>\n",
       "    <tr>\n",
       "      <th>cnt_ma_rech30</th>\n",
       "      <td>0.237331</td>\n",
       "      <td>-0.003148</td>\n",
       "      <td>0.451385</td>\n",
       "      <td>0.426707</td>\n",
       "      <td>0.233343</td>\n",
       "      <td>0.230260</td>\n",
       "      <td>0.004311</td>\n",
       "      <td>0.001549</td>\n",
       "      <td>-0.002662</td>\n",
       "      <td>1.000000</td>\n",
       "      <td>...</td>\n",
       "      <td>0.765802</td>\n",
       "      <td>0.752296</td>\n",
       "      <td>0.000109</td>\n",
       "      <td>-0.067011</td>\n",
       "      <td>0.014703</td>\n",
       "      <td>0.685257</td>\n",
       "      <td>0.174104</td>\n",
       "      <td>-0.071451</td>\n",
       "      <td>0.043617</td>\n",
       "      <td>0.017362</td>\n",
       "    </tr>\n",
       "    <tr>\n",
       "      <th>fr_ma_rech30</th>\n",
       "      <td>0.001330</td>\n",
       "      <td>-0.001163</td>\n",
       "      <td>-0.000577</td>\n",
       "      <td>-0.000343</td>\n",
       "      <td>-0.001219</td>\n",
       "      <td>-0.000503</td>\n",
       "      <td>-0.001629</td>\n",
       "      <td>0.001158</td>\n",
       "      <td>0.002876</td>\n",
       "      <td>0.001669</td>\n",
       "      <td>...</td>\n",
       "      <td>0.002666</td>\n",
       "      <td>0.002470</td>\n",
       "      <td>-0.001100</td>\n",
       "      <td>-0.000331</td>\n",
       "      <td>0.003368</td>\n",
       "      <td>0.002634</td>\n",
       "      <td>-0.001890</td>\n",
       "      <td>-0.001292</td>\n",
       "      <td>0.001455</td>\n",
       "      <td>0.000998</td>\n",
       "    </tr>\n",
       "    <tr>\n",
       "      <th>sumamnt_ma_rech30</th>\n",
       "      <td>0.202828</td>\n",
       "      <td>0.000707</td>\n",
       "      <td>0.636536</td>\n",
       "      <td>0.603886</td>\n",
       "      <td>0.272649</td>\n",
       "      <td>0.259709</td>\n",
       "      <td>0.002105</td>\n",
       "      <td>0.000046</td>\n",
       "      <td>0.440821</td>\n",
       "      <td>0.656986</td>\n",
       "      <td>...</td>\n",
       "      <td>0.491864</td>\n",
       "      <td>0.531079</td>\n",
       "      <td>0.001633</td>\n",
       "      <td>-0.034460</td>\n",
       "      <td>0.009419</td>\n",
       "      <td>0.484761</td>\n",
       "      <td>0.257705</td>\n",
       "      <td>-0.042244</td>\n",
       "      <td>0.000112</td>\n",
       "      <td>-0.012596</td>\n",
       "    </tr>\n",
       "    <tr>\n",
       "      <th>medianamnt_ma_rech30</th>\n",
       "      <td>0.141490</td>\n",
       "      <td>0.004306</td>\n",
       "      <td>0.295356</td>\n",
       "      <td>0.282960</td>\n",
       "      <td>0.129853</td>\n",
       "      <td>0.120242</td>\n",
       "      <td>-0.001358</td>\n",
       "      <td>0.001037</td>\n",
       "      <td>0.794646</td>\n",
       "      <td>-0.011792</td>\n",
       "      <td>...</td>\n",
       "      <td>-0.029789</td>\n",
       "      <td>0.007125</td>\n",
       "      <td>0.001985</td>\n",
       "      <td>0.032477</td>\n",
       "      <td>-0.001143</td>\n",
       "      <td>0.014546</td>\n",
       "      <td>0.159613</td>\n",
       "      <td>0.022692</td>\n",
       "      <td>-0.018398</td>\n",
       "      <td>-0.002861</td>\n",
       "    </tr>\n",
       "    <tr>\n",
       "      <th>medianmarechprebal30</th>\n",
       "      <td>-0.004829</td>\n",
       "      <td>0.003930</td>\n",
       "      <td>-0.001153</td>\n",
       "      <td>-0.000746</td>\n",
       "      <td>-0.001415</td>\n",
       "      <td>-0.001237</td>\n",
       "      <td>0.004071</td>\n",
       "      <td>0.002849</td>\n",
       "      <td>-0.002342</td>\n",
       "      <td>0.000082</td>\n",
       "      <td>...</td>\n",
       "      <td>-0.000211</td>\n",
       "      <td>0.000134</td>\n",
       "      <td>-0.002176</td>\n",
       "      <td>-0.002289</td>\n",
       "      <td>0.001342</td>\n",
       "      <td>0.000736</td>\n",
       "      <td>-0.002141</td>\n",
       "      <td>-0.001927</td>\n",
       "      <td>0.001516</td>\n",
       "      <td>0.001811</td>\n",
       "    </tr>\n",
       "    <tr>\n",
       "      <th>cnt_ma_rech90</th>\n",
       "      <td>0.236392</td>\n",
       "      <td>-0.002725</td>\n",
       "      <td>0.587338</td>\n",
       "      <td>0.593069</td>\n",
       "      <td>0.312118</td>\n",
       "      <td>0.345293</td>\n",
       "      <td>0.004263</td>\n",
       "      <td>0.001272</td>\n",
       "      <td>0.016707</td>\n",
       "      <td>0.886433</td>\n",
       "      <td>...</td>\n",
       "      <td>0.689002</td>\n",
       "      <td>0.707558</td>\n",
       "      <td>-0.000573</td>\n",
       "      <td>-0.053637</td>\n",
       "      <td>0.015754</td>\n",
       "      <td>0.783419</td>\n",
       "      <td>0.244602</td>\n",
       "      <td>-0.072481</td>\n",
       "      <td>0.011943</td>\n",
       "      <td>-0.003141</td>\n",
       "    </tr>\n",
       "    <tr>\n",
       "      <th>fr_ma_rech90</th>\n",
       "      <td>0.084385</td>\n",
       "      <td>0.004401</td>\n",
       "      <td>-0.078299</td>\n",
       "      <td>-0.079530</td>\n",
       "      <td>-0.033530</td>\n",
       "      <td>-0.036524</td>\n",
       "      <td>0.001414</td>\n",
       "      <td>0.000798</td>\n",
       "      <td>0.106267</td>\n",
       "      <td>-0.152759</td>\n",
       "      <td>...</td>\n",
       "      <td>-0.119083</td>\n",
       "      <td>-0.123664</td>\n",
       "      <td>0.001635</td>\n",
       "      <td>0.020626</td>\n",
       "      <td>-0.002756</td>\n",
       "      <td>-0.132035</td>\n",
       "      <td>-0.045780</td>\n",
       "      <td>0.016964</td>\n",
       "      <td>0.036817</td>\n",
       "      <td>0.077529</td>\n",
       "    </tr>\n",
       "    <tr>\n",
       "      <th>sumamnt_ma_rech90</th>\n",
       "      <td>0.205793</td>\n",
       "      <td>0.001011</td>\n",
       "      <td>0.762981</td>\n",
       "      <td>0.768817</td>\n",
       "      <td>0.342306</td>\n",
       "      <td>0.360601</td>\n",
       "      <td>0.002243</td>\n",
       "      <td>-0.000414</td>\n",
       "      <td>0.418735</td>\n",
       "      <td>0.584060</td>\n",
       "      <td>...</td>\n",
       "      <td>0.442766</td>\n",
       "      <td>0.508599</td>\n",
       "      <td>0.001152</td>\n",
       "      <td>-0.022133</td>\n",
       "      <td>0.011306</td>\n",
       "      <td>0.562609</td>\n",
       "      <td>0.321739</td>\n",
       "      <td>-0.042386</td>\n",
       "      <td>-0.026409</td>\n",
       "      <td>-0.029997</td>\n",
       "    </tr>\n",
       "    <tr>\n",
       "      <th>medianamnt_ma_rech90</th>\n",
       "      <td>0.120855</td>\n",
       "      <td>0.004909</td>\n",
       "      <td>0.257847</td>\n",
       "      <td>0.250518</td>\n",
       "      <td>0.110356</td>\n",
       "      <td>0.103151</td>\n",
       "      <td>-0.000726</td>\n",
       "      <td>0.000219</td>\n",
       "      <td>0.818734</td>\n",
       "      <td>-0.051347</td>\n",
       "      <td>...</td>\n",
       "      <td>-0.060766</td>\n",
       "      <td>-0.025307</td>\n",
       "      <td>0.001016</td>\n",
       "      <td>0.036475</td>\n",
       "      <td>-0.000123</td>\n",
       "      <td>-0.023450</td>\n",
       "      <td>0.134139</td>\n",
       "      <td>0.031696</td>\n",
       "      <td>-0.035640</td>\n",
       "      <td>-0.023022</td>\n",
       "    </tr>\n",
       "    <tr>\n",
       "      <th>medianmarechprebal90</th>\n",
       "      <td>0.039300</td>\n",
       "      <td>-0.000859</td>\n",
       "      <td>0.037495</td>\n",
       "      <td>0.036382</td>\n",
       "      <td>0.027170</td>\n",
       "      <td>0.029547</td>\n",
       "      <td>-0.001086</td>\n",
       "      <td>0.004158</td>\n",
       "      <td>0.124646</td>\n",
       "      <td>0.013463</td>\n",
       "      <td>...</td>\n",
       "      <td>-0.043381</td>\n",
       "      <td>-0.033878</td>\n",
       "      <td>0.001884</td>\n",
       "      <td>0.030534</td>\n",
       "      <td>-0.000926</td>\n",
       "      <td>-0.036412</td>\n",
       "      <td>0.027130</td>\n",
       "      <td>0.032453</td>\n",
       "      <td>-0.031760</td>\n",
       "      <td>-0.031210</td>\n",
       "    </tr>\n",
       "    <tr>\n",
       "      <th>cnt_da_rech30</th>\n",
       "      <td>0.003827</td>\n",
       "      <td>0.001564</td>\n",
       "      <td>0.000700</td>\n",
       "      <td>0.000661</td>\n",
       "      <td>-0.001105</td>\n",
       "      <td>-0.000548</td>\n",
       "      <td>-0.003467</td>\n",
       "      <td>-0.003628</td>\n",
       "      <td>-0.001837</td>\n",
       "      <td>0.002306</td>\n",
       "      <td>...</td>\n",
       "      <td>0.001852</td>\n",
       "      <td>0.001487</td>\n",
       "      <td>-0.000394</td>\n",
       "      <td>0.000049</td>\n",
       "      <td>-0.001986</td>\n",
       "      <td>0.003369</td>\n",
       "      <td>-0.000647</td>\n",
       "      <td>-0.001365</td>\n",
       "      <td>-0.000471</td>\n",
       "      <td>0.000382</td>\n",
       "    </tr>\n",
       "    <tr>\n",
       "      <th>fr_da_rech30</th>\n",
       "      <td>-0.000027</td>\n",
       "      <td>0.000892</td>\n",
       "      <td>-0.001499</td>\n",
       "      <td>-0.001570</td>\n",
       "      <td>-0.002558</td>\n",
       "      <td>-0.002345</td>\n",
       "      <td>-0.003626</td>\n",
       "      <td>-0.000074</td>\n",
       "      <td>-0.003230</td>\n",
       "      <td>-0.002732</td>\n",
       "      <td>...</td>\n",
       "      <td>-0.003212</td>\n",
       "      <td>-0.003395</td>\n",
       "      <td>-0.001070</td>\n",
       "      <td>-0.001141</td>\n",
       "      <td>-0.001623</td>\n",
       "      <td>-0.001593</td>\n",
       "      <td>-0.001069</td>\n",
       "      <td>-0.001623</td>\n",
       "      <td>0.001709</td>\n",
       "      <td>-0.000725</td>\n",
       "    </tr>\n",
       "    <tr>\n",
       "      <th>cnt_da_rech90</th>\n",
       "      <td>0.002999</td>\n",
       "      <td>0.001121</td>\n",
       "      <td>0.038814</td>\n",
       "      <td>0.031155</td>\n",
       "      <td>0.072255</td>\n",
       "      <td>0.056282</td>\n",
       "      <td>-0.003538</td>\n",
       "      <td>-0.001859</td>\n",
       "      <td>0.014779</td>\n",
       "      <td>0.011981</td>\n",
       "      <td>...</td>\n",
       "      <td>0.017976</td>\n",
       "      <td>0.026249</td>\n",
       "      <td>-0.001855</td>\n",
       "      <td>-0.003351</td>\n",
       "      <td>0.000907</td>\n",
       "      <td>0.020909</td>\n",
       "      <td>0.038019</td>\n",
       "      <td>-0.003094</td>\n",
       "      <td>0.013430</td>\n",
       "      <td>0.024046</td>\n",
       "    </tr>\n",
       "    <tr>\n",
       "      <th>fr_da_rech90</th>\n",
       "      <td>-0.005418</td>\n",
       "      <td>0.005395</td>\n",
       "      <td>0.020673</td>\n",
       "      <td>0.016437</td>\n",
       "      <td>0.046761</td>\n",
       "      <td>0.036886</td>\n",
       "      <td>-0.002395</td>\n",
       "      <td>-0.000203</td>\n",
       "      <td>0.016042</td>\n",
       "      <td>0.006989</td>\n",
       "      <td>...</td>\n",
       "      <td>0.010021</td>\n",
       "      <td>0.014935</td>\n",
       "      <td>-0.000754</td>\n",
       "      <td>-0.002234</td>\n",
       "      <td>0.001993</td>\n",
       "      <td>0.011501</td>\n",
       "      <td>0.021785</td>\n",
       "      <td>-0.000949</td>\n",
       "      <td>0.000354</td>\n",
       "      <td>0.001226</td>\n",
       "    </tr>\n",
       "    <tr>\n",
       "      <th>cnt_loans30</th>\n",
       "      <td>0.196283</td>\n",
       "      <td>-0.001826</td>\n",
       "      <td>0.366116</td>\n",
       "      <td>0.340387</td>\n",
       "      <td>0.180203</td>\n",
       "      <td>0.171595</td>\n",
       "      <td>0.001193</td>\n",
       "      <td>0.000380</td>\n",
       "      <td>-0.027612</td>\n",
       "      <td>0.765802</td>\n",
       "      <td>...</td>\n",
       "      <td>1.000000</td>\n",
       "      <td>0.957742</td>\n",
       "      <td>0.000251</td>\n",
       "      <td>-0.093146</td>\n",
       "      <td>0.015595</td>\n",
       "      <td>0.852905</td>\n",
       "      <td>0.143590</td>\n",
       "      <td>-0.097871</td>\n",
       "      <td>0.067842</td>\n",
       "      <td>0.033369</td>\n",
       "    </tr>\n",
       "    <tr>\n",
       "      <th>amnt_loans30</th>\n",
       "      <td>0.197272</td>\n",
       "      <td>-0.001726</td>\n",
       "      <td>0.471492</td>\n",
       "      <td>0.447869</td>\n",
       "      <td>0.233453</td>\n",
       "      <td>0.231906</td>\n",
       "      <td>0.000903</td>\n",
       "      <td>0.000536</td>\n",
       "      <td>0.008502</td>\n",
       "      <td>0.752296</td>\n",
       "      <td>...</td>\n",
       "      <td>0.957742</td>\n",
       "      <td>1.000000</td>\n",
       "      <td>-0.000073</td>\n",
       "      <td>-0.078531</td>\n",
       "      <td>0.014625</td>\n",
       "      <td>0.897961</td>\n",
       "      <td>0.329170</td>\n",
       "      <td>-0.087989</td>\n",
       "      <td>0.060425</td>\n",
       "      <td>0.030901</td>\n",
       "    </tr>\n",
       "    <tr>\n",
       "      <th>maxamnt_loans30</th>\n",
       "      <td>0.000248</td>\n",
       "      <td>-0.002764</td>\n",
       "      <td>-0.000028</td>\n",
       "      <td>0.000025</td>\n",
       "      <td>-0.000864</td>\n",
       "      <td>-0.001411</td>\n",
       "      <td>0.000928</td>\n",
       "      <td>0.000503</td>\n",
       "      <td>0.001000</td>\n",
       "      <td>0.000109</td>\n",
       "      <td>...</td>\n",
       "      <td>0.000251</td>\n",
       "      <td>-0.000073</td>\n",
       "      <td>1.000000</td>\n",
       "      <td>0.007782</td>\n",
       "      <td>0.003987</td>\n",
       "      <td>-0.001850</td>\n",
       "      <td>-0.000487</td>\n",
       "      <td>0.009330</td>\n",
       "      <td>-0.001512</td>\n",
       "      <td>-0.000915</td>\n",
       "    </tr>\n",
       "    <tr>\n",
       "      <th>medianamnt_loans30</th>\n",
       "      <td>0.044589</td>\n",
       "      <td>0.004664</td>\n",
       "      <td>-0.011610</td>\n",
       "      <td>-0.005591</td>\n",
       "      <td>-0.016482</td>\n",
       "      <td>-0.009467</td>\n",
       "      <td>0.001835</td>\n",
       "      <td>0.000061</td>\n",
       "      <td>0.028370</td>\n",
       "      <td>-0.067011</td>\n",
       "      <td>...</td>\n",
       "      <td>-0.093146</td>\n",
       "      <td>-0.078531</td>\n",
       "      <td>0.007782</td>\n",
       "      <td>1.000000</td>\n",
       "      <td>-0.003670</td>\n",
       "      <td>-0.067580</td>\n",
       "      <td>0.058378</td>\n",
       "      <td>0.911604</td>\n",
       "      <td>-0.006007</td>\n",
       "      <td>0.003178</td>\n",
       "    </tr>\n",
       "    <tr>\n",
       "      <th>cnt_loans90</th>\n",
       "      <td>0.004733</td>\n",
       "      <td>-0.000611</td>\n",
       "      <td>0.008962</td>\n",
       "      <td>0.009446</td>\n",
       "      <td>0.004012</td>\n",
       "      <td>0.005141</td>\n",
       "      <td>-0.000225</td>\n",
       "      <td>-0.000972</td>\n",
       "      <td>0.000093</td>\n",
       "      <td>0.014703</td>\n",
       "      <td>...</td>\n",
       "      <td>0.015595</td>\n",
       "      <td>0.014625</td>\n",
       "      <td>0.003987</td>\n",
       "      <td>-0.003670</td>\n",
       "      <td>1.000000</td>\n",
       "      <td>0.017697</td>\n",
       "      <td>0.001450</td>\n",
       "      <td>-0.002571</td>\n",
       "      <td>0.000587</td>\n",
       "      <td>-0.000476</td>\n",
       "    </tr>\n",
       "    <tr>\n",
       "      <th>amnt_loans90</th>\n",
       "      <td>0.199788</td>\n",
       "      <td>-0.002319</td>\n",
       "      <td>0.563496</td>\n",
       "      <td>0.567204</td>\n",
       "      <td>0.298943</td>\n",
       "      <td>0.327436</td>\n",
       "      <td>0.000870</td>\n",
       "      <td>0.000519</td>\n",
       "      <td>0.014067</td>\n",
       "      <td>0.685257</td>\n",
       "      <td>...</td>\n",
       "      <td>0.852905</td>\n",
       "      <td>0.897961</td>\n",
       "      <td>-0.001850</td>\n",
       "      <td>-0.067580</td>\n",
       "      <td>0.017697</td>\n",
       "      <td>1.000000</td>\n",
       "      <td>0.323417</td>\n",
       "      <td>-0.095160</td>\n",
       "      <td>0.052142</td>\n",
       "      <td>0.029653</td>\n",
       "    </tr>\n",
       "    <tr>\n",
       "      <th>maxamnt_loans90</th>\n",
       "      <td>0.084144</td>\n",
       "      <td>-0.001191</td>\n",
       "      <td>0.400199</td>\n",
       "      <td>0.397251</td>\n",
       "      <td>0.234211</td>\n",
       "      <td>0.251029</td>\n",
       "      <td>-0.001123</td>\n",
       "      <td>0.001524</td>\n",
       "      <td>0.148460</td>\n",
       "      <td>0.174104</td>\n",
       "      <td>...</td>\n",
       "      <td>0.143590</td>\n",
       "      <td>0.329170</td>\n",
       "      <td>-0.000487</td>\n",
       "      <td>0.058378</td>\n",
       "      <td>0.001450</td>\n",
       "      <td>0.323417</td>\n",
       "      <td>1.000000</td>\n",
       "      <td>0.032256</td>\n",
       "      <td>0.013376</td>\n",
       "      <td>0.029679</td>\n",
       "    </tr>\n",
       "    <tr>\n",
       "      <th>medianamnt_loans90</th>\n",
       "      <td>0.035747</td>\n",
       "      <td>0.002771</td>\n",
       "      <td>-0.037305</td>\n",
       "      <td>-0.034686</td>\n",
       "      <td>-0.035489</td>\n",
       "      <td>-0.034122</td>\n",
       "      <td>0.002771</td>\n",
       "      <td>-0.002239</td>\n",
       "      <td>0.021004</td>\n",
       "      <td>-0.071451</td>\n",
       "      <td>...</td>\n",
       "      <td>-0.097871</td>\n",
       "      <td>-0.087989</td>\n",
       "      <td>0.009330</td>\n",
       "      <td>0.911604</td>\n",
       "      <td>-0.002571</td>\n",
       "      <td>-0.095160</td>\n",
       "      <td>0.032256</td>\n",
       "      <td>1.000000</td>\n",
       "      <td>-0.013388</td>\n",
       "      <td>-0.010443</td>\n",
       "    </tr>\n",
       "    <tr>\n",
       "      <th>payback30</th>\n",
       "      <td>0.048336</td>\n",
       "      <td>0.001940</td>\n",
       "      <td>0.026915</td>\n",
       "      <td>0.019400</td>\n",
       "      <td>0.072974</td>\n",
       "      <td>0.067110</td>\n",
       "      <td>-0.002233</td>\n",
       "      <td>0.000077</td>\n",
       "      <td>-0.027369</td>\n",
       "      <td>0.043617</td>\n",
       "      <td>...</td>\n",
       "      <td>0.067842</td>\n",
       "      <td>0.060425</td>\n",
       "      <td>-0.001512</td>\n",
       "      <td>-0.006007</td>\n",
       "      <td>0.000587</td>\n",
       "      <td>0.052142</td>\n",
       "      <td>0.013376</td>\n",
       "      <td>-0.013388</td>\n",
       "      <td>1.000000</td>\n",
       "      <td>0.830363</td>\n",
       "    </tr>\n",
       "    <tr>\n",
       "      <th>payback90</th>\n",
       "      <td>0.049183</td>\n",
       "      <td>0.002203</td>\n",
       "      <td>0.047175</td>\n",
       "      <td>0.040800</td>\n",
       "      <td>0.095147</td>\n",
       "      <td>0.099501</td>\n",
       "      <td>-0.001583</td>\n",
       "      <td>0.000417</td>\n",
       "      <td>-0.014260</td>\n",
       "      <td>0.017362</td>\n",
       "      <td>...</td>\n",
       "      <td>0.033369</td>\n",
       "      <td>0.030901</td>\n",
       "      <td>-0.000915</td>\n",
       "      <td>0.003178</td>\n",
       "      <td>-0.000476</td>\n",
       "      <td>0.029653</td>\n",
       "      <td>0.029679</td>\n",
       "      <td>-0.010443</td>\n",
       "      <td>0.830363</td>\n",
       "      <td>1.000000</td>\n",
       "    </tr>\n",
       "  </tbody>\n",
       "</table>\n",
       "<p>33 rows × 33 columns</p>\n",
       "</div>"
      ],
      "text/plain": [
       "                         label       aon  daily_decr30  daily_decr90  \\\n",
       "label                 1.000000 -0.003785      0.168298      0.166150   \n",
       "aon                  -0.003785  1.000000      0.001104      0.000374   \n",
       "daily_decr30          0.168298  0.001104      1.000000      0.977704   \n",
       "daily_decr90          0.166150  0.000374      0.977704      1.000000   \n",
       "rental30              0.058085 -0.000960      0.442066      0.434685   \n",
       "rental90              0.075521 -0.000790      0.458977      0.471730   \n",
       "last_rech_date_ma     0.003728  0.001692      0.000487      0.000908   \n",
       "last_rech_date_da     0.001711 -0.001693     -0.001636     -0.001886   \n",
       "last_rech_amt_ma      0.131804  0.004256      0.275837      0.264131   \n",
       "cnt_ma_rech30         0.237331 -0.003148      0.451385      0.426707   \n",
       "fr_ma_rech30          0.001330 -0.001163     -0.000577     -0.000343   \n",
       "sumamnt_ma_rech30     0.202828  0.000707      0.636536      0.603886   \n",
       "medianamnt_ma_rech30  0.141490  0.004306      0.295356      0.282960   \n",
       "medianmarechprebal30 -0.004829  0.003930     -0.001153     -0.000746   \n",
       "cnt_ma_rech90         0.236392 -0.002725      0.587338      0.593069   \n",
       "fr_ma_rech90          0.084385  0.004401     -0.078299     -0.079530   \n",
       "sumamnt_ma_rech90     0.205793  0.001011      0.762981      0.768817   \n",
       "medianamnt_ma_rech90  0.120855  0.004909      0.257847      0.250518   \n",
       "medianmarechprebal90  0.039300 -0.000859      0.037495      0.036382   \n",
       "cnt_da_rech30         0.003827  0.001564      0.000700      0.000661   \n",
       "fr_da_rech30         -0.000027  0.000892     -0.001499     -0.001570   \n",
       "cnt_da_rech90         0.002999  0.001121      0.038814      0.031155   \n",
       "fr_da_rech90         -0.005418  0.005395      0.020673      0.016437   \n",
       "cnt_loans30           0.196283 -0.001826      0.366116      0.340387   \n",
       "amnt_loans30          0.197272 -0.001726      0.471492      0.447869   \n",
       "maxamnt_loans30       0.000248 -0.002764     -0.000028      0.000025   \n",
       "medianamnt_loans30    0.044589  0.004664     -0.011610     -0.005591   \n",
       "cnt_loans90           0.004733 -0.000611      0.008962      0.009446   \n",
       "amnt_loans90          0.199788 -0.002319      0.563496      0.567204   \n",
       "maxamnt_loans90       0.084144 -0.001191      0.400199      0.397251   \n",
       "medianamnt_loans90    0.035747  0.002771     -0.037305     -0.034686   \n",
       "payback30             0.048336  0.001940      0.026915      0.019400   \n",
       "payback90             0.049183  0.002203      0.047175      0.040800   \n",
       "\n",
       "                      rental30  rental90  last_rech_date_ma  \\\n",
       "label                 0.058085  0.075521           0.003728   \n",
       "aon                  -0.000960 -0.000790           0.001692   \n",
       "daily_decr30          0.442066  0.458977           0.000487   \n",
       "daily_decr90          0.434685  0.471730           0.000908   \n",
       "rental30              1.000000  0.955237          -0.001095   \n",
       "rental90              0.955237  1.000000          -0.001688   \n",
       "last_rech_date_ma    -0.001095 -0.001688           1.000000   \n",
       "last_rech_date_da     0.003261  0.002794           0.001790   \n",
       "last_rech_amt_ma      0.127271  0.121416          -0.000147   \n",
       "cnt_ma_rech30         0.233343  0.230260           0.004311   \n",
       "fr_ma_rech30         -0.001219 -0.000503          -0.001629   \n",
       "sumamnt_ma_rech30     0.272649  0.259709           0.002105   \n",
       "medianamnt_ma_rech30  0.129853  0.120242          -0.001358   \n",
       "medianmarechprebal30 -0.001415 -0.001237           0.004071   \n",
       "cnt_ma_rech90         0.312118  0.345293           0.004263   \n",
       "fr_ma_rech90         -0.033530 -0.036524           0.001414   \n",
       "sumamnt_ma_rech90     0.342306  0.360601           0.002243   \n",
       "medianamnt_ma_rech90  0.110356  0.103151          -0.000726   \n",
       "medianmarechprebal90  0.027170  0.029547          -0.001086   \n",
       "cnt_da_rech30        -0.001105 -0.000548          -0.003467   \n",
       "fr_da_rech30         -0.002558 -0.002345          -0.003626   \n",
       "cnt_da_rech90         0.072255  0.056282          -0.003538   \n",
       "fr_da_rech90          0.046761  0.036886          -0.002395   \n",
       "cnt_loans30           0.180203  0.171595           0.001193   \n",
       "amnt_loans30          0.233453  0.231906           0.000903   \n",
       "maxamnt_loans30      -0.000864 -0.001411           0.000928   \n",
       "medianamnt_loans30   -0.016482 -0.009467           0.001835   \n",
       "cnt_loans90           0.004012  0.005141          -0.000225   \n",
       "amnt_loans90          0.298943  0.327436           0.000870   \n",
       "maxamnt_loans90       0.234211  0.251029          -0.001123   \n",
       "medianamnt_loans90   -0.035489 -0.034122           0.002771   \n",
       "payback30             0.072974  0.067110          -0.002233   \n",
       "payback90             0.095147  0.099501          -0.001583   \n",
       "\n",
       "                      last_rech_date_da  last_rech_amt_ma  cnt_ma_rech30  ...  \\\n",
       "label                          0.001711          0.131804       0.237331  ...   \n",
       "aon                           -0.001693          0.004256      -0.003148  ...   \n",
       "daily_decr30                  -0.001636          0.275837       0.451385  ...   \n",
       "daily_decr90                  -0.001886          0.264131       0.426707  ...   \n",
       "rental30                       0.003261          0.127271       0.233343  ...   \n",
       "rental90                       0.002794          0.121416       0.230260  ...   \n",
       "last_rech_date_ma              0.001790         -0.000147       0.004311  ...   \n",
       "last_rech_date_da              1.000000         -0.000149       0.001549  ...   \n",
       "last_rech_amt_ma              -0.000149          1.000000      -0.002662  ...   \n",
       "cnt_ma_rech30                  0.001549         -0.002662       1.000000  ...   \n",
       "fr_ma_rech30                   0.001158          0.002876       0.001669  ...   \n",
       "sumamnt_ma_rech30              0.000046          0.440821       0.656986  ...   \n",
       "medianamnt_ma_rech30           0.001037          0.794646      -0.011792  ...   \n",
       "medianmarechprebal30           0.002849         -0.002342       0.000082  ...   \n",
       "cnt_ma_rech90                  0.001272          0.016707       0.886433  ...   \n",
       "fr_ma_rech90                   0.000798          0.106267      -0.152759  ...   \n",
       "sumamnt_ma_rech90             -0.000414          0.418735       0.584060  ...   \n",
       "medianamnt_ma_rech90           0.000219          0.818734      -0.051347  ...   \n",
       "medianmarechprebal90           0.004158          0.124646       0.013463  ...   \n",
       "cnt_da_rech30                 -0.003628         -0.001837       0.002306  ...   \n",
       "fr_da_rech30                  -0.000074         -0.003230      -0.002732  ...   \n",
       "cnt_da_rech90                 -0.001859          0.014779       0.011981  ...   \n",
       "fr_da_rech90                  -0.000203          0.016042       0.006989  ...   \n",
       "cnt_loans30                    0.000380         -0.027612       0.765802  ...   \n",
       "amnt_loans30                   0.000536          0.008502       0.752296  ...   \n",
       "maxamnt_loans30                0.000503          0.001000       0.000109  ...   \n",
       "medianamnt_loans30             0.000061          0.028370      -0.067011  ...   \n",
       "cnt_loans90                   -0.000972          0.000093       0.014703  ...   \n",
       "amnt_loans90                   0.000519          0.014067       0.685257  ...   \n",
       "maxamnt_loans90                0.001524          0.148460       0.174104  ...   \n",
       "medianamnt_loans90            -0.002239          0.021004      -0.071451  ...   \n",
       "payback30                      0.000077         -0.027369       0.043617  ...   \n",
       "payback90                      0.000417         -0.014260       0.017362  ...   \n",
       "\n",
       "                      cnt_loans30  amnt_loans30  maxamnt_loans30  \\\n",
       "label                    0.196283      0.197272         0.000248   \n",
       "aon                     -0.001826     -0.001726        -0.002764   \n",
       "daily_decr30             0.366116      0.471492        -0.000028   \n",
       "daily_decr90             0.340387      0.447869         0.000025   \n",
       "rental30                 0.180203      0.233453        -0.000864   \n",
       "rental90                 0.171595      0.231906        -0.001411   \n",
       "last_rech_date_ma        0.001193      0.000903         0.000928   \n",
       "last_rech_date_da        0.000380      0.000536         0.000503   \n",
       "last_rech_amt_ma        -0.027612      0.008502         0.001000   \n",
       "cnt_ma_rech30            0.765802      0.752296         0.000109   \n",
       "fr_ma_rech30             0.002666      0.002470        -0.001100   \n",
       "sumamnt_ma_rech30        0.491864      0.531079         0.001633   \n",
       "medianamnt_ma_rech30    -0.029789      0.007125         0.001985   \n",
       "medianmarechprebal30    -0.000211      0.000134        -0.002176   \n",
       "cnt_ma_rech90            0.689002      0.707558        -0.000573   \n",
       "fr_ma_rech90            -0.119083     -0.123664         0.001635   \n",
       "sumamnt_ma_rech90        0.442766      0.508599         0.001152   \n",
       "medianamnt_ma_rech90    -0.060766     -0.025307         0.001016   \n",
       "medianmarechprebal90    -0.043381     -0.033878         0.001884   \n",
       "cnt_da_rech30            0.001852      0.001487        -0.000394   \n",
       "fr_da_rech30            -0.003212     -0.003395        -0.001070   \n",
       "cnt_da_rech90            0.017976      0.026249        -0.001855   \n",
       "fr_da_rech90             0.010021      0.014935        -0.000754   \n",
       "cnt_loans30              1.000000      0.957742         0.000251   \n",
       "amnt_loans30             0.957742      1.000000        -0.000073   \n",
       "maxamnt_loans30          0.000251     -0.000073         1.000000   \n",
       "medianamnt_loans30      -0.093146     -0.078531         0.007782   \n",
       "cnt_loans90              0.015595      0.014625         0.003987   \n",
       "amnt_loans90             0.852905      0.897961        -0.001850   \n",
       "maxamnt_loans90          0.143590      0.329170        -0.000487   \n",
       "medianamnt_loans90      -0.097871     -0.087989         0.009330   \n",
       "payback30                0.067842      0.060425        -0.001512   \n",
       "payback90                0.033369      0.030901        -0.000915   \n",
       "\n",
       "                      medianamnt_loans30  cnt_loans90  amnt_loans90  \\\n",
       "label                           0.044589     0.004733      0.199788   \n",
       "aon                             0.004664    -0.000611     -0.002319   \n",
       "daily_decr30                   -0.011610     0.008962      0.563496   \n",
       "daily_decr90                   -0.005591     0.009446      0.567204   \n",
       "rental30                       -0.016482     0.004012      0.298943   \n",
       "rental90                       -0.009467     0.005141      0.327436   \n",
       "last_rech_date_ma               0.001835    -0.000225      0.000870   \n",
       "last_rech_date_da               0.000061    -0.000972      0.000519   \n",
       "last_rech_amt_ma                0.028370     0.000093      0.014067   \n",
       "cnt_ma_rech30                  -0.067011     0.014703      0.685257   \n",
       "fr_ma_rech30                   -0.000331     0.003368      0.002634   \n",
       "sumamnt_ma_rech30              -0.034460     0.009419      0.484761   \n",
       "medianamnt_ma_rech30            0.032477    -0.001143      0.014546   \n",
       "medianmarechprebal30           -0.002289     0.001342      0.000736   \n",
       "cnt_ma_rech90                  -0.053637     0.015754      0.783419   \n",
       "fr_ma_rech90                    0.020626    -0.002756     -0.132035   \n",
       "sumamnt_ma_rech90              -0.022133     0.011306      0.562609   \n",
       "medianamnt_ma_rech90            0.036475    -0.000123     -0.023450   \n",
       "medianmarechprebal90            0.030534    -0.000926     -0.036412   \n",
       "cnt_da_rech30                   0.000049    -0.001986      0.003369   \n",
       "fr_da_rech30                   -0.001141    -0.001623     -0.001593   \n",
       "cnt_da_rech90                  -0.003351     0.000907      0.020909   \n",
       "fr_da_rech90                   -0.002234     0.001993      0.011501   \n",
       "cnt_loans30                    -0.093146     0.015595      0.852905   \n",
       "amnt_loans30                   -0.078531     0.014625      0.897961   \n",
       "maxamnt_loans30                 0.007782     0.003987     -0.001850   \n",
       "medianamnt_loans30              1.000000    -0.003670     -0.067580   \n",
       "cnt_loans90                    -0.003670     1.000000      0.017697   \n",
       "amnt_loans90                   -0.067580     0.017697      1.000000   \n",
       "maxamnt_loans90                 0.058378     0.001450      0.323417   \n",
       "medianamnt_loans90              0.911604    -0.002571     -0.095160   \n",
       "payback30                      -0.006007     0.000587      0.052142   \n",
       "payback90                       0.003178    -0.000476      0.029653   \n",
       "\n",
       "                      maxamnt_loans90  medianamnt_loans90  payback30  \\\n",
       "label                        0.084144            0.035747   0.048336   \n",
       "aon                         -0.001191            0.002771   0.001940   \n",
       "daily_decr30                 0.400199           -0.037305   0.026915   \n",
       "daily_decr90                 0.397251           -0.034686   0.019400   \n",
       "rental30                     0.234211           -0.035489   0.072974   \n",
       "rental90                     0.251029           -0.034122   0.067110   \n",
       "last_rech_date_ma           -0.001123            0.002771  -0.002233   \n",
       "last_rech_date_da            0.001524           -0.002239   0.000077   \n",
       "last_rech_amt_ma             0.148460            0.021004  -0.027369   \n",
       "cnt_ma_rech30                0.174104           -0.071451   0.043617   \n",
       "fr_ma_rech30                -0.001890           -0.001292   0.001455   \n",
       "sumamnt_ma_rech30            0.257705           -0.042244   0.000112   \n",
       "medianamnt_ma_rech30         0.159613            0.022692  -0.018398   \n",
       "medianmarechprebal30        -0.002141           -0.001927   0.001516   \n",
       "cnt_ma_rech90                0.244602           -0.072481   0.011943   \n",
       "fr_ma_rech90                -0.045780            0.016964   0.036817   \n",
       "sumamnt_ma_rech90            0.321739           -0.042386  -0.026409   \n",
       "medianamnt_ma_rech90         0.134139            0.031696  -0.035640   \n",
       "medianmarechprebal90         0.027130            0.032453  -0.031760   \n",
       "cnt_da_rech30               -0.000647           -0.001365  -0.000471   \n",
       "fr_da_rech30                -0.001069           -0.001623   0.001709   \n",
       "cnt_da_rech90                0.038019           -0.003094   0.013430   \n",
       "fr_da_rech90                 0.021785           -0.000949   0.000354   \n",
       "cnt_loans30                  0.143590           -0.097871   0.067842   \n",
       "amnt_loans30                 0.329170           -0.087989   0.060425   \n",
       "maxamnt_loans30             -0.000487            0.009330  -0.001512   \n",
       "medianamnt_loans30           0.058378            0.911604  -0.006007   \n",
       "cnt_loans90                  0.001450           -0.002571   0.000587   \n",
       "amnt_loans90                 0.323417           -0.095160   0.052142   \n",
       "maxamnt_loans90              1.000000            0.032256   0.013376   \n",
       "medianamnt_loans90           0.032256            1.000000  -0.013388   \n",
       "payback30                    0.013376           -0.013388   1.000000   \n",
       "payback90                    0.029679           -0.010443   0.830363   \n",
       "\n",
       "                      payback90  \n",
       "label                  0.049183  \n",
       "aon                    0.002203  \n",
       "daily_decr30           0.047175  \n",
       "daily_decr90           0.040800  \n",
       "rental30               0.095147  \n",
       "rental90               0.099501  \n",
       "last_rech_date_ma     -0.001583  \n",
       "last_rech_date_da      0.000417  \n",
       "last_rech_amt_ma      -0.014260  \n",
       "cnt_ma_rech30          0.017362  \n",
       "fr_ma_rech30           0.000998  \n",
       "sumamnt_ma_rech30     -0.012596  \n",
       "medianamnt_ma_rech30  -0.002861  \n",
       "medianmarechprebal30   0.001811  \n",
       "cnt_ma_rech90         -0.003141  \n",
       "fr_ma_rech90           0.077529  \n",
       "sumamnt_ma_rech90     -0.029997  \n",
       "medianamnt_ma_rech90  -0.023022  \n",
       "medianmarechprebal90  -0.031210  \n",
       "cnt_da_rech30          0.000382  \n",
       "fr_da_rech30          -0.000725  \n",
       "cnt_da_rech90          0.024046  \n",
       "fr_da_rech90           0.001226  \n",
       "cnt_loans30            0.033369  \n",
       "amnt_loans30           0.030901  \n",
       "maxamnt_loans30       -0.000915  \n",
       "medianamnt_loans30     0.003178  \n",
       "cnt_loans90           -0.000476  \n",
       "amnt_loans90           0.029653  \n",
       "maxamnt_loans90        0.029679  \n",
       "medianamnt_loans90    -0.010443  \n",
       "payback30              0.830363  \n",
       "payback90              1.000000  \n",
       "\n",
       "[33 rows x 33 columns]"
      ]
     },
     "execution_count": 16,
     "metadata": {},
     "output_type": "execute_result"
    }
   ],
   "source": [
    "corr_data = data\n",
    "corr = corr_data.corr()\n",
    "corr"
   ]
  },
  {
   "cell_type": "code",
   "execution_count": 17,
   "id": "3bc14eec",
   "metadata": {},
   "outputs": [],
   "source": [
    "data.drop(['last_rech_date_da','fr_da_rech30','maxamnt_loans30','medianamnt_loans30','maxamnt_loans90','medianamnt_loans90','cnt_da_rech30','cnt_da_rech90','fr_da_rech90'],axis=1,inplace=True)"
   ]
  },
  {
   "cell_type": "code",
   "execution_count": 18,
   "id": "4c74a08f",
   "metadata": {},
   "outputs": [
    {
     "data": {
      "text/plain": [
       "0         0\n",
       "1         1\n",
       "2         1\n",
       "3         1\n",
       "4         1\n",
       "         ..\n",
       "209588    1\n",
       "209589    1\n",
       "209590    1\n",
       "209591    1\n",
       "209592    1\n",
       "Name: label, Length: 209593, dtype: int64"
      ]
     },
     "execution_count": 18,
     "metadata": {},
     "output_type": "execute_result"
    }
   ],
   "source": [
    "data['label']"
   ]
  },
  {
   "cell_type": "code",
   "execution_count": 19,
   "id": "fe389da8",
   "metadata": {},
   "outputs": [
    {
     "data": {
      "text/html": [
       "<div>\n",
       "<style scoped>\n",
       "    .dataframe tbody tr th:only-of-type {\n",
       "        vertical-align: middle;\n",
       "    }\n",
       "\n",
       "    .dataframe tbody tr th {\n",
       "        vertical-align: top;\n",
       "    }\n",
       "\n",
       "    .dataframe thead th {\n",
       "        text-align: right;\n",
       "    }\n",
       "</style>\n",
       "<table border=\"1\" class=\"dataframe\">\n",
       "  <thead>\n",
       "    <tr style=\"text-align: right;\">\n",
       "      <th></th>\n",
       "      <th>label</th>\n",
       "      <th>aon</th>\n",
       "      <th>daily_decr30</th>\n",
       "      <th>daily_decr90</th>\n",
       "      <th>rental30</th>\n",
       "      <th>rental90</th>\n",
       "      <th>last_rech_date_ma</th>\n",
       "      <th>last_rech_amt_ma</th>\n",
       "      <th>cnt_ma_rech30</th>\n",
       "      <th>fr_ma_rech30</th>\n",
       "      <th>...</th>\n",
       "      <th>fr_ma_rech90</th>\n",
       "      <th>sumamnt_ma_rech90</th>\n",
       "      <th>medianamnt_ma_rech90</th>\n",
       "      <th>medianmarechprebal90</th>\n",
       "      <th>cnt_loans30</th>\n",
       "      <th>amnt_loans30</th>\n",
       "      <th>cnt_loans90</th>\n",
       "      <th>amnt_loans90</th>\n",
       "      <th>payback30</th>\n",
       "      <th>payback90</th>\n",
       "    </tr>\n",
       "  </thead>\n",
       "  <tbody>\n",
       "    <tr>\n",
       "      <th>0</th>\n",
       "      <td>0</td>\n",
       "      <td>272.0</td>\n",
       "      <td>3055.050000</td>\n",
       "      <td>3065.150000</td>\n",
       "      <td>220.13</td>\n",
       "      <td>260.13</td>\n",
       "      <td>2.0</td>\n",
       "      <td>1539</td>\n",
       "      <td>2</td>\n",
       "      <td>21.0</td>\n",
       "      <td>...</td>\n",
       "      <td>21</td>\n",
       "      <td>3078</td>\n",
       "      <td>1539.0</td>\n",
       "      <td>7.50</td>\n",
       "      <td>2</td>\n",
       "      <td>12</td>\n",
       "      <td>2.0</td>\n",
       "      <td>12</td>\n",
       "      <td>29.000000</td>\n",
       "      <td>29.000000</td>\n",
       "    </tr>\n",
       "    <tr>\n",
       "      <th>1</th>\n",
       "      <td>1</td>\n",
       "      <td>712.0</td>\n",
       "      <td>12122.000000</td>\n",
       "      <td>12124.750000</td>\n",
       "      <td>3691.26</td>\n",
       "      <td>3691.26</td>\n",
       "      <td>20.0</td>\n",
       "      <td>5787</td>\n",
       "      <td>1</td>\n",
       "      <td>0.0</td>\n",
       "      <td>...</td>\n",
       "      <td>0</td>\n",
       "      <td>5787</td>\n",
       "      <td>5787.0</td>\n",
       "      <td>61.04</td>\n",
       "      <td>1</td>\n",
       "      <td>12</td>\n",
       "      <td>1.0</td>\n",
       "      <td>12</td>\n",
       "      <td>0.000000</td>\n",
       "      <td>0.000000</td>\n",
       "    </tr>\n",
       "    <tr>\n",
       "      <th>2</th>\n",
       "      <td>1</td>\n",
       "      <td>535.0</td>\n",
       "      <td>1398.000000</td>\n",
       "      <td>1398.000000</td>\n",
       "      <td>900.13</td>\n",
       "      <td>900.13</td>\n",
       "      <td>3.0</td>\n",
       "      <td>1539</td>\n",
       "      <td>1</td>\n",
       "      <td>0.0</td>\n",
       "      <td>...</td>\n",
       "      <td>0</td>\n",
       "      <td>1539</td>\n",
       "      <td>1539.0</td>\n",
       "      <td>66.32</td>\n",
       "      <td>1</td>\n",
       "      <td>6</td>\n",
       "      <td>1.0</td>\n",
       "      <td>6</td>\n",
       "      <td>0.000000</td>\n",
       "      <td>0.000000</td>\n",
       "    </tr>\n",
       "    <tr>\n",
       "      <th>3</th>\n",
       "      <td>1</td>\n",
       "      <td>241.0</td>\n",
       "      <td>21.228000</td>\n",
       "      <td>21.228000</td>\n",
       "      <td>159.42</td>\n",
       "      <td>159.42</td>\n",
       "      <td>41.0</td>\n",
       "      <td>947</td>\n",
       "      <td>0</td>\n",
       "      <td>0.0</td>\n",
       "      <td>...</td>\n",
       "      <td>0</td>\n",
       "      <td>947</td>\n",
       "      <td>947.0</td>\n",
       "      <td>2.50</td>\n",
       "      <td>2</td>\n",
       "      <td>12</td>\n",
       "      <td>2.0</td>\n",
       "      <td>12</td>\n",
       "      <td>0.000000</td>\n",
       "      <td>0.000000</td>\n",
       "    </tr>\n",
       "    <tr>\n",
       "      <th>4</th>\n",
       "      <td>1</td>\n",
       "      <td>947.0</td>\n",
       "      <td>150.619333</td>\n",
       "      <td>150.619333</td>\n",
       "      <td>1098.90</td>\n",
       "      <td>1098.90</td>\n",
       "      <td>4.0</td>\n",
       "      <td>2309</td>\n",
       "      <td>7</td>\n",
       "      <td>2.0</td>\n",
       "      <td>...</td>\n",
       "      <td>2</td>\n",
       "      <td>23496</td>\n",
       "      <td>2888.0</td>\n",
       "      <td>35.00</td>\n",
       "      <td>7</td>\n",
       "      <td>42</td>\n",
       "      <td>7.0</td>\n",
       "      <td>42</td>\n",
       "      <td>2.333333</td>\n",
       "      <td>2.333333</td>\n",
       "    </tr>\n",
       "  </tbody>\n",
       "</table>\n",
       "<p>5 rows × 24 columns</p>\n",
       "</div>"
      ],
      "text/plain": [
       "   label    aon  daily_decr30  daily_decr90  rental30  rental90  \\\n",
       "0      0  272.0   3055.050000   3065.150000    220.13    260.13   \n",
       "1      1  712.0  12122.000000  12124.750000   3691.26   3691.26   \n",
       "2      1  535.0   1398.000000   1398.000000    900.13    900.13   \n",
       "3      1  241.0     21.228000     21.228000    159.42    159.42   \n",
       "4      1  947.0    150.619333    150.619333   1098.90   1098.90   \n",
       "\n",
       "   last_rech_date_ma  last_rech_amt_ma  cnt_ma_rech30  fr_ma_rech30  ...  \\\n",
       "0                2.0              1539              2          21.0  ...   \n",
       "1               20.0              5787              1           0.0  ...   \n",
       "2                3.0              1539              1           0.0  ...   \n",
       "3               41.0               947              0           0.0  ...   \n",
       "4                4.0              2309              7           2.0  ...   \n",
       "\n",
       "   fr_ma_rech90  sumamnt_ma_rech90  medianamnt_ma_rech90  \\\n",
       "0            21               3078                1539.0   \n",
       "1             0               5787                5787.0   \n",
       "2             0               1539                1539.0   \n",
       "3             0                947                 947.0   \n",
       "4             2              23496                2888.0   \n",
       "\n",
       "   medianmarechprebal90  cnt_loans30  amnt_loans30  cnt_loans90  amnt_loans90  \\\n",
       "0                  7.50            2            12          2.0            12   \n",
       "1                 61.04            1            12          1.0            12   \n",
       "2                 66.32            1             6          1.0             6   \n",
       "3                  2.50            2            12          2.0            12   \n",
       "4                 35.00            7            42          7.0            42   \n",
       "\n",
       "   payback30  payback90  \n",
       "0  29.000000  29.000000  \n",
       "1   0.000000   0.000000  \n",
       "2   0.000000   0.000000  \n",
       "3   0.000000   0.000000  \n",
       "4   2.333333   2.333333  \n",
       "\n",
       "[5 rows x 24 columns]"
      ]
     },
     "execution_count": 19,
     "metadata": {},
     "output_type": "execute_result"
    }
   ],
   "source": [
    "data_copy = data.copy()\n",
    "data_copy.head()"
   ]
  },
  {
   "cell_type": "code",
   "execution_count": 20,
   "id": "53cc1a4b",
   "metadata": {},
   "outputs": [
    {
     "name": "stdout",
     "output_type": "stream",
     "text": [
      "(209593, 23)\n"
     ]
    }
   ],
   "source": [
    "data_copy = data_copy.drop(columns=['label'],axis=1)\n",
    "print(data_copy.shape)"
   ]
  },
  {
   "cell_type": "code",
   "execution_count": 21,
   "id": "4ca057a0",
   "metadata": {},
   "outputs": [],
   "source": [
    "X1=data_copy\n",
    "y1=data['label']"
   ]
  },
  {
   "cell_type": "code",
   "execution_count": 22,
   "id": "3731254c",
   "metadata": {},
   "outputs": [
    {
     "name": "stdout",
     "output_type": "stream",
     "text": [
      "(146715, 23)\n",
      "(62878, 23)\n",
      "(146715,)\n",
      "(62878,)\n"
     ]
    }
   ],
   "source": [
    "from sklearn.model_selection import train_test_split\n",
    "X_train, X_test, Y_train, Y_test = train_test_split(X1, y1, test_size=0.3, random_state=1)\n",
    "\n",
    "print(X_train.shape)\n",
    "print(X_test.shape)\n",
    "print(Y_train.shape)\n",
    "print(Y_test.shape)"
   ]
  },
  {
   "cell_type": "markdown",
   "id": "5ba322af",
   "metadata": {},
   "source": [
    "## Modelling"
   ]
  },
  {
   "cell_type": "markdown",
   "id": "1d95ba1f",
   "metadata": {},
   "source": [
    "### Random Forest"
   ]
  },
  {
   "cell_type": "markdown",
   "id": "f1ad506f",
   "metadata": {},
   "source": [
    "### First Itertaion of the Random Forest"
   ]
  },
  {
   "cell_type": "code",
   "execution_count": 23,
   "id": "76f3e7b7",
   "metadata": {},
   "outputs": [
    {
     "data": {
      "text/plain": [
       "RandomForestClassifier()"
      ]
     },
     "execution_count": 23,
     "metadata": {},
     "output_type": "execute_result"
    }
   ],
   "source": [
    "from sklearn.ensemble import RandomForestClassifier\n",
    "RF_1 = RandomForestClassifier()\n",
    "RF_1.fit(X_train, Y_train)"
   ]
  },
  {
   "cell_type": "code",
   "execution_count": 15,
   "id": "fdd65ed7",
   "metadata": {},
   "outputs": [
    {
     "data": {
      "image/png": "[encoded data removed]",
      "text/plain": [
       "<Figure size 432x288 with 2 Axes>"
      ]
     },
     "metadata": {
      "needs_background": "light"
     },
     "output_type": "display_data"
    }
   ],
   "source": [
    "from sklearn.metrics import confusion_matrix\n",
    "ypred = RF_1.predict(X_test)\n",
    "cm = confusion_matrix(Y_test, ypred)\n",
    "sns.heatmap(cm, annot=True, fmt='d')\n",
    "plt.title('Confusion Matrix')\n",
    "plt.show()"
   ]
  },
  {
   "cell_type": "code",
   "execution_count": 16,
   "id": "c42f0792",
   "metadata": {},
   "outputs": [
    {
     "name": "stdout",
     "output_type": "stream",
     "text": [
      "Accuracy = 0.9129107159896943\n",
      "Precision = 0.9249267766301834\n",
      "Recall = 0.9801608189788177\n",
      "F1 Score = 0.9517430998625259\n"
     ]
    }
   ],
   "source": [
    "tn = cm[0,0]  #True Negative\n",
    "tp = cm[1,1]  #True Positives\n",
    "fp = cm[0,1]  #False Positives\n",
    "fn = cm[1,0]  #False Negatives\n",
    "\n",
    "accuracy = (tp+tn)/(tp+fn+fp+tn)\n",
    "precision = tp / (tp+fp)\n",
    "recall = tp / (tp+fn)\n",
    "f1 = 2*precision*recall / (precision+recall)\n",
    "\n",
    "print('Accuracy =',accuracy)\n",
    "print('Precision =', precision)\n",
    "print('Recall =', recall)\n",
    "print('F1 Score =', f1)"
   ]
  },
  {
   "cell_type": "code",
   "execution_count": 17,
   "id": "619b1a1e",
   "metadata": {},
   "outputs": [
    {
     "name": "stdout",
     "output_type": "stream",
     "text": [
      "ROC AUC = 0.8929172066976467\n"
     ]
    },
    {
     "data": {
      "image/png": "[encoded data removed]",
      "text/plain": [
       "<Figure size 432x288 with 1 Axes>"
      ]
     },
     "metadata": {
      "needs_background": "light"
     },
     "output_type": "display_data"
    }
   ],
   "source": [
    "from sklearn.metrics import roc_curve,roc_auc_score\n",
    "ypred = RF_1.predict_proba(X_test)\n",
    "fpr,tpr,threshold = roc_curve(Y_test,ypred[:,1])\n",
    "roc_auc = roc_auc_score(Y_test,ypred[:,1])\n",
    "\n",
    "print('ROC AUC =', roc_auc)\n",
    "plt.figure()\n",
    "lw = 2\n",
    "plt.plot(fpr,tpr,color='darkorange',lw=lw,label='ROC Curve (area = %0.2f)'%roc_auc)\n",
    "plt.plot([0,1],[0,1],color='navy',lw=lw,linestyle='--')\n",
    "plt.xlim([0.0, 1.0])\n",
    "plt.ylim([0.0, 1.05])\n",
    "plt.xlabel('FPR')\n",
    "plt.ylabel('TPR')\n",
    "plt.title('ROC Curve')\n",
    "plt.legend(loc='lower right')\n",
    "plt.show()"
   ]
  },
  {
   "cell_type": "markdown",
   "id": "db973753",
   "metadata": {},
   "source": [
    "### Second Itertaion of the Random Forest"
   ]
  },
  {
   "cell_type": "code",
   "execution_count": 18,
   "id": "f2b35fb0",
   "metadata": {},
   "outputs": [
    {
     "data": {
      "text/plain": [
       "RandomForestClassifier(n_estimators=150, n_jobs=-1, random_state=8)"
      ]
     },
     "execution_count": 18,
     "metadata": {},
     "output_type": "execute_result"
    }
   ],
   "source": [
    "RF_2 = RandomForestClassifier(n_estimators=150,random_state=8,n_jobs=-1)\n",
    "RF_2.fit(X_train, Y_train)"
   ]
  },
  {
   "cell_type": "code",
   "execution_count": 19,
   "id": "1a729904",
   "metadata": {},
   "outputs": [
    {
     "data": {
      "image/png": "[encoded data removed]",
      "text/plain": [
       "<Figure size 432x288 with 2 Axes>"
      ]
     },
     "metadata": {
      "needs_background": "light"
     },
     "output_type": "display_data"
    }
   ],
   "source": [
    "from sklearn.metrics import confusion_matrix\n",
    "ypred = RF_2.predict(X_test)\n",
    "cm = confusion_matrix(Y_test, ypred)\n",
    "sns.heatmap(cm, annot=True, fmt='d')\n",
    "plt.title('Confusion Matrix')\n",
    "plt.show()"
   ]
  },
  {
   "cell_type": "code",
   "execution_count": 20,
   "id": "c1d1a657",
   "metadata": {},
   "outputs": [
    {
     "name": "stdout",
     "output_type": "stream",
     "text": [
      "Accuracy = 0.912751677852349\n",
      "Precision = 0.9245647969052224\n",
      "Recall = 0.980414934746701\n",
      "F1 Score = 0.9516711595045545\n"
     ]
    }
   ],
   "source": [
    "tn = cm[0,0]  #True Negative\n",
    "tp = cm[1,1]  #True Positives\n",
    "fp = cm[0,1]  #False Positives\n",
    "fn = cm[1,0]  #False Negatives\n",
    "\n",
    "accuracy = (tp+tn)/(tp+fn+fp+tn)\n",
    "precision = tp / (tp+fp)\n",
    "recall = tp / (tp+fn)\n",
    "f1 = 2*precision*recall / (precision+recall)\n",
    "\n",
    "print('Accuracy =',accuracy)\n",
    "print('Precision =', precision)\n",
    "print('Recall =', recall)\n",
    "print('F1 Score =', f1)"
   ]
  },
  {
   "cell_type": "code",
   "execution_count": 21,
   "id": "09650961",
   "metadata": {},
   "outputs": [
    {
     "name": "stdout",
     "output_type": "stream",
     "text": [
      "ROC AUC = 0.8955954572568897\n"
     ]
    },
    {
     "data": {
      "image/png": "[encoded data removed]",
      "text/plain": [
       "<Figure size 432x288 with 1 Axes>"
      ]
     },
     "metadata": {
      "needs_background": "light"
     },
     "output_type": "display_data"
    }
   ],
   "source": [
    "from sklearn.metrics import roc_curve,roc_auc_score\n",
    "ypred = RF_2.predict_proba(X_test)\n",
    "fpr,tpr,threshold = roc_curve(Y_test,ypred[:,1])\n",
    "roc_auc = roc_auc_score(Y_test,ypred[:,1])\n",
    "\n",
    "print('ROC AUC =', roc_auc)\n",
    "plt.figure()\n",
    "lw = 2\n",
    "plt.plot(fpr,tpr,color='darkorange',lw=lw,label='ROC Curve (area = %0.2f)'%roc_auc)\n",
    "plt.plot([0,1],[0,1],color='navy',lw=lw,linestyle='--')\n",
    "plt.xlim([0.0, 1.0])\n",
    "plt.ylim([0.0, 1.05])\n",
    "plt.xlabel('FPR')\n",
    "plt.ylabel('TPR')\n",
    "plt.title('ROC Curve')\n",
    "plt.legend(loc='lower right')\n",
    "plt.show()"
   ]
  },
  {
   "cell_type": "markdown",
   "id": "29bddcc9",
   "metadata": {},
   "source": [
    "## Naive Bayes"
   ]
  },
  {
   "cell_type": "code",
   "execution_count": 22,
   "id": "266246b5",
   "metadata": {},
   "outputs": [
    {
     "data": {
      "text/plain": [
       "GaussianNB()"
      ]
     },
     "execution_count": 22,
     "metadata": {},
     "output_type": "execute_result"
    }
   ],
   "source": [
    "from sklearn.naive_bayes import GaussianNB\n",
    "\n",
    "# We define the model\n",
    "nb = GaussianNB()\n",
    "\n",
    "# We train model\n",
    "nb.fit(X_train, Y_train)"
   ]
  },
  {
   "cell_type": "code",
   "execution_count": 23,
   "id": "b18d5479",
   "metadata": {},
   "outputs": [
    {
     "data": {
      "image/png": "[encoded data removed]",
      "text/plain": [
       "<Figure size 432x288 with 2 Axes>"
      ]
     },
     "metadata": {
      "needs_background": "light"
     },
     "output_type": "display_data"
    }
   ],
   "source": [
    "from sklearn.metrics import confusion_matrix\n",
    "ypred = nb.predict(X_test)\n",
    "cm = confusion_matrix(Y_test, ypred)\n",
    "sns.heatmap(cm, annot=True, fmt='d')\n",
    "plt.title('Confusion Matrix')\n",
    "plt.show()"
   ]
  },
  {
   "cell_type": "code",
   "execution_count": 24,
   "id": "e2a17d5d",
   "metadata": {},
   "outputs": [
    {
     "name": "stdout",
     "output_type": "stream",
     "text": [
      "Accuracy = 0.5527211425299787\n",
      "Precision = 0.9708768376575758\n",
      "Recall = 0.5046557638901494\n",
      "F1 Score = 0.664110832437597\n"
     ]
    }
   ],
   "source": [
    "tn = cm[0,0]  #True Negative\n",
    "tp = cm[1,1]  #True Positives\n",
    "fp = cm[0,1]  #False Positives\n",
    "fn = cm[1,0]  #False Negatives\n",
    "\n",
    "accuracy = (tp+tn)/(tp+fn+fp+tn)\n",
    "precision = tp / (tp+fp)\n",
    "recall = tp / (tp+fn)\n",
    "f1 = 2*precision*recall / (precision+recall)\n",
    "\n",
    "print('Accuracy =',accuracy)\n",
    "print('Precision =', precision)\n",
    "print('Recall =', recall)\n",
    "print('F1 Score =', f1)"
   ]
  },
  {
   "cell_type": "code",
   "execution_count": 25,
   "id": "cafaab3c",
   "metadata": {},
   "outputs": [
    {
     "name": "stdout",
     "output_type": "stream",
     "text": [
      "ROC AUC = 0.7962324160672745\n"
     ]
    },
    {
     "data": {
      "image/png": "[encoded data removed]",
      "text/plain": [
       "<Figure size 432x288 with 1 Axes>"
      ]
     },
     "metadata": {
      "needs_background": "light"
     },
     "output_type": "display_data"
    }
   ],
   "source": [
    "from sklearn.metrics import roc_curve,roc_auc_score\n",
    "ypred = nb.predict_proba(X_test)\n",
    "fpr,tpr,threshold = roc_curve(Y_test,ypred[:,1])\n",
    "roc_auc = roc_auc_score(Y_test,ypred[:,1])\n",
    "\n",
    "print('ROC AUC =', roc_auc)\n",
    "plt.figure()\n",
    "lw = 2\n",
    "plt.plot(fpr,tpr,color='darkorange',lw=lw,label='ROC Curve (area = %0.2f)'%roc_auc)\n",
    "plt.plot([0,1],[0,1],color='navy',lw=lw,linestyle='--')\n",
    "plt.xlim([0.0, 1.0])\n",
    "plt.ylim([0.0, 1.05])\n",
    "plt.xlabel('FPR')\n",
    "plt.ylabel('TPR')\n",
    "plt.title('ROC Curve')\n",
    "plt.legend(loc='lower right')\n",
    "plt.show()"
   ]
  },
  {
   "cell_type": "markdown",
   "id": "39ab6f13",
   "metadata": {},
   "source": [
    "## Gradient Boosting"
   ]
  },
  {
   "cell_type": "markdown",
   "id": "44e28686",
   "metadata": {},
   "source": [
    "### First Itertaion of the Gradient Boosting"
   ]
  },
  {
   "cell_type": "code",
   "execution_count": 26,
   "id": "93f22e86",
   "metadata": {},
   "outputs": [
    {
     "data": {
      "text/plain": [
       "GradientBoostingClassifier()"
      ]
     },
     "execution_count": 26,
     "metadata": {},
     "output_type": "execute_result"
    }
   ],
   "source": [
    "from sklearn.ensemble import GradientBoostingClassifier\n",
    "gbm_model = GradientBoostingClassifier()\n",
    "\n",
    "# We train model\n",
    "gbm_model.fit(X_train, Y_train)"
   ]
  },
  {
   "cell_type": "code",
   "execution_count": 27,
   "id": "e496c8b6",
   "metadata": {},
   "outputs": [
    {
     "data": {
      "image/png": "[encoded data removed]",
      "text/plain": [
       "<Figure size 432x288 with 2 Axes>"
      ]
     },
     "metadata": {
      "needs_background": "light"
     },
     "output_type": "display_data"
    }
   ],
   "source": [
    "from sklearn.metrics import confusion_matrix\n",
    "ypred = gbm_model.predict(X_test)\n",
    "cm = confusion_matrix(Y_test, ypred)\n",
    "sns.heatmap(cm, annot=True, fmt='d')\n",
    "plt.title('Confusion Matrix')\n",
    "plt.show()"
   ]
  },
  {
   "cell_type": "code",
   "execution_count": 28,
   "id": "5838c97f",
   "metadata": {},
   "outputs": [
    {
     "name": "stdout",
     "output_type": "stream",
     "text": [
      "Accuracy = 0.909952606635071\n",
      "Precision = 0.9155332134030498\n",
      "Recall = 0.9884195814350281\n",
      "F1 Score = 0.9505812938588836\n"
     ]
    }
   ],
   "source": [
    "tn = cm[0,0]  #True Negative\n",
    "tp = cm[1,1]  #True Positives\n",
    "fp = cm[0,1]  #False Positives\n",
    "fn = cm[1,0]  #False Negatives\n",
    "\n",
    "accuracy = (tp+tn)/(tp+fn+fp+tn)\n",
    "precision = tp / (tp+fp)\n",
    "recall = tp / (tp+fn)\n",
    "f1 = 2*precision*recall / (precision+recall)\n",
    "\n",
    "print('Accuracy =',accuracy)\n",
    "print('Precision =', precision)\n",
    "print('Recall =', recall)\n",
    "print('F1 Score =', f1)"
   ]
  },
  {
   "cell_type": "code",
   "execution_count": 29,
   "id": "3aeb1728",
   "metadata": {},
   "outputs": [
    {
     "name": "stdout",
     "output_type": "stream",
     "text": [
      "ROC AUC = 0.8864339508085359\n"
     ]
    },
    {
     "data": {
      "image/png": "[encoded data removed]",
      "text/plain": [
       "<Figure size 432x288 with 1 Axes>"
      ]
     },
     "metadata": {
      "needs_background": "light"
     },
     "output_type": "display_data"
    }
   ],
   "source": [
    "from sklearn.metrics import roc_curve,roc_auc_score\n",
    "ypred = gbm_model.predict_proba(X_test)\n",
    "fpr,tpr,threshold = roc_curve(Y_test,ypred[:,1])\n",
    "roc_auc = roc_auc_score(Y_test,ypred[:,1])\n",
    "\n",
    "print('ROC AUC =', roc_auc)\n",
    "plt.figure()\n",
    "lw = 2\n",
    "plt.plot(fpr,tpr,color='darkorange',lw=lw,label='ROC Curve (area = %0.2f)'%roc_auc)\n",
    "plt.plot([0,1],[0,1],color='navy',lw=lw,linestyle='--')\n",
    "plt.xlim([0.0, 1.0])\n",
    "plt.ylim([0.0, 1.05])\n",
    "plt.xlabel('FPR')\n",
    "plt.ylabel('TPR')\n",
    "plt.title('ROC Curve')\n",
    "plt.legend(loc='lower right')\n",
    "plt.show()"
   ]
  },
  {
   "cell_type": "markdown",
   "id": "537a0efb",
   "metadata": {},
   "source": [
    "### Second Itertaion of the Gradient Boosting"
   ]
  },
  {
   "cell_type": "code",
   "execution_count": 24,
   "id": "bb1c6d4b",
   "metadata": {},
   "outputs": [
    {
     "data": {
      "image/png": "[encoded data removed]",
      "text/plain": [
       "<Figure size 432x288 with 2 Axes>"
      ]
     },
     "metadata": {
      "needs_background": "light"
     },
     "output_type": "display_data"
    }
   ],
   "source": [
    "#Second Ieration\n",
    "\n",
    "from sklearn.ensemble import GradientBoostingClassifier\n",
    "gbm_model2 = GradientBoostingClassifier(learning_rate=0.1, n_estimators=100, max_depth=8, random_state=10)\n",
    "\n",
    "# We train model\n",
    "gbm_model2.fit(X_train, Y_train)\n",
    "\n",
    "from sklearn.metrics import confusion_matrix\n",
    "ypred = gbm_model2.predict(X_test)\n",
    "cm = confusion_matrix(Y_test, ypred)\n",
    "sns.heatmap(cm, annot=True, fmt='d')\n",
    "plt.title('Confusion Matrix')\n",
    "plt.show()"
   ]
  },
  {
   "cell_type": "code",
   "execution_count": 25,
   "id": "0ed3f2bc",
   "metadata": {},
   "outputs": [
    {
     "name": "stdout",
     "output_type": "stream",
     "text": [
      "Accuracy = 0.9161073825503355\n",
      "Precision = 0.9270358306188925\n",
      "Recall = 0.9815040023233441\n",
      "F1 Score = 0.9534926778519347\n"
     ]
    }
   ],
   "source": [
    "tn = cm[0,0]  #True Negative\n",
    "tp = cm[1,1]  #True Positives\n",
    "fp = cm[0,1]  #False Positives\n",
    "fn = cm[1,0]  #False Negatives\n",
    "\n",
    "accuracy = (tp+tn)/(tp+fn+fp+tn)\n",
    "precision = tp / (tp+fp)\n",
    "recall = tp / (tp+fn)\n",
    "f1 = 2*precision*recall / (precision+recall)\n",
    "\n",
    "print('Accuracy =',accuracy)\n",
    "print('Precision =', precision)\n",
    "print('Recall =', recall)\n",
    "print('F1 Score =', f1)"
   ]
  },
  {
   "cell_type": "code",
   "execution_count": 26,
   "id": "6a31eaaf",
   "metadata": {},
   "outputs": [
    {
     "name": "stdout",
     "output_type": "stream",
     "text": [
      "ROC AUC = 0.9066060365423324\n"
     ]
    },
    {
     "data": {
      "image/png": "[encoded data removed]",
      "text/plain": [
       "<Figure size 432x288 with 1 Axes>"
      ]
     },
     "metadata": {
      "needs_background": "light"
     },
     "output_type": "display_data"
    }
   ],
   "source": [
    "from sklearn.metrics import roc_curve,roc_auc_score\n",
    "ypred = gbm_model2.predict_proba(X_test)\n",
    "fpr,tpr,threshold = roc_curve(Y_test,ypred[:,1])\n",
    "roc_auc = roc_auc_score(Y_test,ypred[:,1])\n",
    "\n",
    "print('ROC AUC =', roc_auc)\n",
    "plt.figure()\n",
    "lw = 2\n",
    "plt.plot(fpr,tpr,color='darkorange',lw=lw,label='ROC Curve (area = %0.2f)'%roc_auc)\n",
    "plt.plot([0,1],[0,1],color='navy',lw=lw,linestyle='--')\n",
    "plt.xlim([0.0, 1.0])\n",
    "plt.ylim([0.0, 1.05])\n",
    "plt.xlabel('FPR')\n",
    "plt.ylabel('TPR')\n",
    "plt.title('ROC Curve')\n",
    "plt.legend(loc='lower right')\n",
    "plt.show()"
   ]
  },
  {
   "cell_type": "markdown",
   "id": "cd9bbfaa",
   "metadata": {},
   "source": [
    "## Light GBM"
   ]
  },
  {
   "cell_type": "code",
   "execution_count": 32,
   "id": "ac1a275a",
   "metadata": {},
   "outputs": [
    {
     "data": {
      "text/plain": [
       "LGBMClassifier()"
      ]
     },
     "execution_count": 32,
     "metadata": {},
     "output_type": "execute_result"
    }
   ],
   "source": [
    "from lightgbm import LGBMClassifier\n",
    "\n",
    "lgbm_model = LGBMClassifier()\n",
    "\n",
    "# We train model\n",
    "lgbm_model.fit(X_train, Y_train)"
   ]
  },
  {
   "cell_type": "code",
   "execution_count": 33,
   "id": "8dc40e10",
   "metadata": {},
   "outputs": [
    {
     "data": {
      "image/png": "[encoded data removed]",
      "text/plain": [
       "<Figure size 432x288 with 2 Axes>"
      ]
     },
     "metadata": {
      "needs_background": "light"
     },
     "output_type": "display_data"
    }
   ],
   "source": [
    "from sklearn.metrics import confusion_matrix\n",
    "ypred = lgbm_model.predict(X_test)\n",
    "cm = confusion_matrix(Y_test, ypred)\n",
    "sns.heatmap(cm, annot=True, fmt='d')\n",
    "plt.title('Confusion Matrix')\n",
    "plt.show()"
   ]
  },
  {
   "cell_type": "code",
   "execution_count": 34,
   "id": "d1ed10fa",
   "metadata": {},
   "outputs": [
    {
     "name": "stdout",
     "output_type": "stream",
     "text": [
      "Accuracy = 0.9147714621966347\n",
      "Precision = 0.9249897456931911\n",
      "Recall = 0.9823934075109361\n",
      "F1 Score = 0.952827780467409\n"
     ]
    }
   ],
   "source": [
    "tn = cm[0,0]  #True Negative\n",
    "tp = cm[1,1]  #True Positives\n",
    "fp = cm[0,1]  #False Positives\n",
    "fn = cm[1,0]  #False Negatives\n",
    "\n",
    "accuracy = (tp+tn)/(tp+fn+fp+tn)\n",
    "precision = tp / (tp+fp)\n",
    "recall = tp / (tp+fn)\n",
    "f1 = 2*precision*recall / (precision+recall)\n",
    "\n",
    "print('Accuracy =',accuracy)\n",
    "print('Precision =', precision)\n",
    "print('Recall =', recall)\n",
    "print('F1 Score =', f1)"
   ]
  },
  {
   "cell_type": "code",
   "execution_count": 35,
   "id": "855898b8",
   "metadata": {},
   "outputs": [
    {
     "name": "stdout",
     "output_type": "stream",
     "text": [
      "ROC AUC = 0.9051064026133612\n"
     ]
    },
    {
     "data": {
      "image/png": "[encoded data removed]",
      "text/plain": [
       "<Figure size 432x288 with 1 Axes>"
      ]
     },
     "metadata": {
      "needs_background": "light"
     },
     "output_type": "display_data"
    }
   ],
   "source": [
    "from sklearn.metrics import roc_curve,roc_auc_score\n",
    "ypred = lgbm_model.predict_proba(X_test)\n",
    "fpr,tpr,threshold = roc_curve(Y_test,ypred[:,1])\n",
    "roc_auc = roc_auc_score(Y_test,ypred[:,1])\n",
    "\n",
    "print('ROC AUC =', roc_auc)\n",
    "plt.figure()\n",
    "lw = 2\n",
    "plt.plot(fpr,tpr,color='darkorange',lw=lw,label='ROC Curve (area = %0.2f)'%roc_auc)\n",
    "plt.plot([0,1],[0,1],color='navy',lw=lw,linestyle='--')\n",
    "plt.xlim([0.0, 1.0])\n",
    "plt.ylim([0.0, 1.05])\n",
    "plt.xlabel('FPR')\n",
    "plt.ylabel('TPR')\n",
    "plt.title('ROC Curve')\n",
    "plt.legend(loc='lower right')\n",
    "plt.show()"
   ]
  },
  {
   "cell_type": "markdown",
   "id": "9fd2e25d",
   "metadata": {},
   "source": [
    "## KNN"
   ]
  },
  {
   "cell_type": "code",
   "execution_count": 36,
   "id": "8073200c",
   "metadata": {},
   "outputs": [
    {
     "data": {
      "text/plain": [
       "KNeighborsClassifier()"
      ]
     },
     "execution_count": 36,
     "metadata": {},
     "output_type": "execute_result"
    }
   ],
   "source": [
    "from sklearn.neighbors import KNeighborsClassifier\n",
    "\n",
    "knn_model = KNeighborsClassifier()\n",
    "\n",
    "# We train model\n",
    "knn_model.fit(X_train, Y_train)"
   ]
  },
  {
   "cell_type": "code",
   "execution_count": 37,
   "id": "46c21f3d",
   "metadata": {},
   "outputs": [
    {
     "data": {
      "image/png": "[encoded data removed]",
      "text/plain": [
       "<Figure size 432x288 with 2 Axes>"
      ]
     },
     "metadata": {
      "needs_background": "light"
     },
     "output_type": "display_data"
    }
   ],
   "source": [
    "from sklearn.metrics import confusion_matrix\n",
    "ypred = knn_model.predict(X_test)\n",
    "cm = confusion_matrix(Y_test, ypred)\n",
    "sns.heatmap(cm, annot=True, fmt='d')\n",
    "plt.title('Confusion Matrix')\n",
    "plt.show()"
   ]
  },
  {
   "cell_type": "code",
   "execution_count": 38,
   "id": "c1a27eb2",
   "metadata": {},
   "outputs": [
    {
     "name": "stdout",
     "output_type": "stream",
     "text": [
      "Accuracy = 0.8831546804923821\n",
      "Precision = 0.9124283048856333\n",
      "Recall = 0.9586517343401159\n",
      "F1 Score = 0.934969064499854\n"
     ]
    }
   ],
   "source": [
    "tn = cm[0,0]  #True Negative\n",
    "tp = cm[1,1]  #True Positives\n",
    "fp = cm[0,1]  #False Positives\n",
    "fn = cm[1,0]  #False Negatives\n",
    "\n",
    "accuracy = (tp+tn)/(tp+fn+fp+tn)\n",
    "precision = tp / (tp+fp)\n",
    "recall = tp / (tp+fn)\n",
    "f1 = 2*precision*recall / (precision+recall)\n",
    "\n",
    "print('Accuracy =',accuracy)\n",
    "print('Precision =', precision)\n",
    "print('Recall =', recall)\n",
    "print('F1 Score =', f1)"
   ]
  },
  {
   "cell_type": "code",
   "execution_count": 39,
   "id": "a9c9d785",
   "metadata": {},
   "outputs": [
    {
     "name": "stdout",
     "output_type": "stream",
     "text": [
      "ROC AUC = 0.7779427408557407\n"
     ]
    },
    {
     "data": {
      "image/png": "[encoded data removed]",
      "text/plain": [
       "<Figure size 432x288 with 1 Axes>"
      ]
     },
     "metadata": {
      "needs_background": "light"
     },
     "output_type": "display_data"
    }
   ],
   "source": [
    "from sklearn.metrics import roc_curve,roc_auc_score\n",
    "ypred = knn_model.predict_proba(X_test)\n",
    "fpr,tpr,threshold = roc_curve(Y_test,ypred[:,1])\n",
    "roc_auc = roc_auc_score(Y_test,ypred[:,1])\n",
    "\n",
    "print('ROC AUC =', roc_auc)\n",
    "plt.figure()\n",
    "lw = 2\n",
    "plt.plot(fpr,tpr,color='darkorange',lw=lw,label='ROC Curve (area = %0.2f)'%roc_auc)\n",
    "plt.plot([0,1],[0,1],color='navy',lw=lw,linestyle='--')\n",
    "plt.xlim([0.0, 1.0])\n",
    "plt.ylim([0.0, 1.05])\n",
    "plt.xlabel('FPR')\n",
    "plt.ylabel('TPR')\n",
    "plt.title('ROC Curve')\n",
    "plt.legend(loc='lower right')\n",
    "plt.show()"
   ]
  },
  {
   "cell_type": "markdown",
   "id": "9e7109a9",
   "metadata": {},
   "source": [
    "## Decision Tree"
   ]
  },
  {
   "cell_type": "markdown",
   "id": "fe6be9f5",
   "metadata": {},
   "source": [
    "### First Itertaion of the Decision Tree"
   ]
  },
  {
   "cell_type": "code",
   "execution_count": 40,
   "id": "01570526",
   "metadata": {},
   "outputs": [
    {
     "data": {
      "text/plain": [
       "DecisionTreeClassifier()"
      ]
     },
     "execution_count": 40,
     "metadata": {},
     "output_type": "execute_result"
    }
   ],
   "source": [
    "from sklearn.tree import DecisionTreeClassifier\n",
    "\n",
    "dt_model = DecisionTreeClassifier()\n",
    "\n",
    "# We train model\n",
    "dt_model.fit(X_train, Y_train)"
   ]
  },
  {
   "cell_type": "code",
   "execution_count": 41,
   "id": "340484f4",
   "metadata": {},
   "outputs": [
    {
     "data": {
      "image/png": "[encoded data removed]",
      "text/plain": [
       "<Figure size 432x288 with 2 Axes>"
      ]
     },
     "metadata": {
      "needs_background": "light"
     },
     "output_type": "display_data"
    }
   ],
   "source": [
    "from sklearn.metrics import confusion_matrix\n",
    "ypred = dt_model.predict(X_test)\n",
    "cm = confusion_matrix(Y_test, ypred)\n",
    "sns.heatmap(cm, annot=True, fmt='d')\n",
    "plt.title('Confusion Matrix')\n",
    "plt.show()"
   ]
  },
  {
   "cell_type": "code",
   "execution_count": 42,
   "id": "af676095",
   "metadata": {},
   "outputs": [
    {
     "name": "stdout",
     "output_type": "stream",
     "text": [
      "Accuracy = 0.8635770857851713\n",
      "Precision = 0.9277398708918029\n",
      "Recall = 0.9156154139364348\n",
      "F1 Score = 0.9216377688049257\n"
     ]
    }
   ],
   "source": [
    "tn = cm[0,0]  #True Negative\n",
    "tp = cm[1,1]  #True Positives\n",
    "fp = cm[0,1]  #False Positives\n",
    "fn = cm[1,0]  #False Negatives\n",
    "\n",
    "accuracy = (tp+tn)/(tp+fn+fp+tn)\n",
    "precision = tp / (tp+fp)\n",
    "recall = tp / (tp+fn)\n",
    "f1 = 2*precision*recall / (precision+recall)\n",
    "\n",
    "print('Accuracy =',accuracy)\n",
    "print('Precision =', precision)\n",
    "print('Recall =', recall)\n",
    "print('F1 Score =', f1)"
   ]
  },
  {
   "cell_type": "code",
   "execution_count": 43,
   "id": "5a2f82b1",
   "metadata": {},
   "outputs": [
    {
     "name": "stdout",
     "output_type": "stream",
     "text": [
      "ROC AUC = 0.7054571809976571\n"
     ]
    },
    {
     "data": {
      "image/png": "[encoded data removed]",
      "text/plain": [
       "<Figure size 432x288 with 1 Axes>"
      ]
     },
     "metadata": {
      "needs_background": "light"
     },
     "output_type": "display_data"
    }
   ],
   "source": [
    "from sklearn.metrics import roc_curve,roc_auc_score\n",
    "ypred = dt_model.predict_proba(X_test)\n",
    "fpr,tpr,threshold = roc_curve(Y_test,ypred[:,1])\n",
    "roc_auc = roc_auc_score(Y_test,ypred[:,1])\n",
    "\n",
    "print('ROC AUC =', roc_auc)\n",
    "plt.figure()\n",
    "lw = 2\n",
    "plt.plot(fpr,tpr,color='darkorange',lw=lw,label='ROC Curve (area = %0.2f)'%roc_auc)\n",
    "plt.plot([0,1],[0,1],color='navy',lw=lw,linestyle='--')\n",
    "plt.xlim([0.0, 1.0])\n",
    "plt.ylim([0.0, 1.05])\n",
    "plt.xlabel('FPR')\n",
    "plt.ylabel('TPR')\n",
    "plt.title('ROC Curve')\n",
    "plt.legend(loc='lower right')\n",
    "plt.show()"
   ]
  },
  {
   "cell_type": "markdown",
   "id": "e593fb77",
   "metadata": {},
   "source": [
    "### Second Itertaion of the Decision Tree"
   ]
  },
  {
   "cell_type": "code",
   "execution_count": 44,
   "id": "d12a6a3d",
   "metadata": {},
   "outputs": [
    {
     "data": {
      "text/plain": [
       "DecisionTreeClassifier(max_depth=8, random_state=42)"
      ]
     },
     "execution_count": 44,
     "metadata": {},
     "output_type": "execute_result"
    }
   ],
   "source": [
    "#Second Iteration\n",
    "\n",
    "from sklearn.tree import DecisionTreeClassifier\n",
    "\n",
    "dt_model2 = DecisionTreeClassifier(max_depth = 8, random_state = 42)\n",
    "\n",
    "# We train model\n",
    "dt_model2.fit(X_train, Y_train)"
   ]
  },
  {
   "cell_type": "code",
   "execution_count": 45,
   "id": "2297fa51",
   "metadata": {},
   "outputs": [
    {
     "data": {
      "image/png": "[encoded data removed]",
      "text/plain": [
       "<Figure size 432x288 with 2 Axes>"
      ]
     },
     "metadata": {
      "needs_background": "light"
     },
     "output_type": "display_data"
    }
   ],
   "source": [
    "from sklearn.metrics import confusion_matrix\n",
    "ypred = dt_model2.predict(X_test)\n",
    "cm = confusion_matrix(Y_test, ypred)\n",
    "sns.heatmap(cm, annot=True, fmt='d')\n",
    "plt.title('Confusion Matrix')\n",
    "plt.show()"
   ]
  },
  {
   "cell_type": "code",
   "execution_count": 46,
   "id": "c18e4c36",
   "metadata": {},
   "outputs": [
    {
     "name": "stdout",
     "output_type": "stream",
     "text": [
      "Accuracy = 0.9088234358599192\n",
      "Precision = 0.9167510976021614\n",
      "Recall = 0.9854246455992595\n",
      "F1 Score = 0.9498482237365828\n"
     ]
    }
   ],
   "source": [
    "tn = cm[0,0]  #True Negative\n",
    "tp = cm[1,1]  #True Positives\n",
    "fp = cm[0,1]  #False Positives\n",
    "fn = cm[1,0]  #False Negatives\n",
    "\n",
    "accuracy = (tp+tn)/(tp+fn+fp+tn)\n",
    "precision = tp / (tp+fp)\n",
    "recall = tp / (tp+fn)\n",
    "f1 = 2*precision*recall / (precision+recall)\n",
    "\n",
    "print('Accuracy =',accuracy)\n",
    "print('Precision =', precision)\n",
    "print('Recall =', recall)\n",
    "print('F1 Score =', f1)"
   ]
  },
  {
   "cell_type": "code",
   "execution_count": 47,
   "id": "d077c128",
   "metadata": {},
   "outputs": [
    {
     "name": "stdout",
     "output_type": "stream",
     "text": [
      "ROC AUC = 0.8669625137041294\n"
     ]
    },
    {
     "data": {
      "image/png": "[encoded data removed]",
      "text/plain": [
       "<Figure size 432x288 with 1 Axes>"
      ]
     },
     "metadata": {
      "needs_background": "light"
     },
     "output_type": "display_data"
    }
   ],
   "source": [
    "from sklearn.metrics import roc_curve,roc_auc_score\n",
    "ypred = dt_model2.predict_proba(X_test)\n",
    "fpr,tpr,threshold = roc_curve(Y_test,ypred[:,1])\n",
    "roc_auc = roc_auc_score(Y_test,ypred[:,1])\n",
    "\n",
    "print('ROC AUC =', roc_auc)\n",
    "plt.figure()\n",
    "lw = 2\n",
    "plt.plot(fpr,tpr,color='darkorange',lw=lw,label='ROC Curve (area = %0.2f)'%roc_auc)\n",
    "plt.plot([0,1],[0,1],color='navy',lw=lw,linestyle='--')\n",
    "plt.xlim([0.0, 1.0])\n",
    "plt.ylim([0.0, 1.05])\n",
    "plt.xlabel('FPR')\n",
    "plt.ylabel('TPR')\n",
    "plt.title('ROC Curve')\n",
    "plt.legend(loc='lower right')\n",
    "plt.show()"
   ]
  }
 ],
 "metadata": {
  "kernelspec": {
   "display_name": "Python 3 (ipykernel)",
   "language": "python",
   "name": "python3"
  },
  "language_info": {
   "codemirror_mode": {
    "name": "ipython",
    "version": 3
   },
   "file_extension": ".py",
   "mimetype": "text/x-python",
   "name": "python",
   "nbconvert_exporter": "python",
   "pygments_lexer": "ipython3",
   "version": "3.9.7"
  }
 },
 "nbformat": 4,
 "nbformat_minor": 5
}

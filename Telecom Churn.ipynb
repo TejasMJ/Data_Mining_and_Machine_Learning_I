{
 "cells": [
  {
   "cell_type": "code",
   "execution_count": 1,
   "id": "6bac248f",
   "metadata": {},
   "outputs": [],
   "source": [
    "import numpy as np\n",
    "import pylab as pl\n",
    "import pandas as pd\n",
    "import matplotlib.pyplot as plt \n",
    "%matplotlib inline\n",
    "import seaborn as sns"
   ]
  },
  {
   "cell_type": "code",
   "execution_count": 4,
   "id": "3779d976",
   "metadata": {},
   "outputs": [],
   "source": [
    "train = pd.read_csv(\"cell2celltrain.csv\")\n",
    "test = pd.read_csv(\"cell2cellholdout.csv\")"
   ]
  },
  {
   "cell_type": "code",
   "execution_count": 5,
   "id": "0817adab",
   "metadata": {},
   "outputs": [
    {
     "name": "stdout",
     "output_type": "stream",
     "text": [
      "Numner of Columns in the Dataset are :  58\n",
      "\n",
      "Numner of Columns in the Dataset are :  51047\n"
     ]
    }
   ],
   "source": [
    "print(\"Numner of Columns in the Dataset are : \", train.shape[1])\n",
    "print(\"\\nNumner of Columns in the Dataset are : \", train.shape[0])"
   ]
  },
  {
   "cell_type": "code",
   "execution_count": 6,
   "id": "ac33fcf4",
   "metadata": {},
   "outputs": [
    {
     "data": {
      "text/html": [
       "<div>\n",
       "<style scoped>\n",
       "    .dataframe tbody tr th:only-of-type {\n",
       "        vertical-align: middle;\n",
       "    }\n",
       "\n",
       "    .dataframe tbody tr th {\n",
       "        vertical-align: top;\n",
       "    }\n",
       "\n",
       "    .dataframe thead th {\n",
       "        text-align: right;\n",
       "    }\n",
       "</style>\n",
       "<table border=\"1\" class=\"dataframe\">\n",
       "  <thead>\n",
       "    <tr style=\"text-align: right;\">\n",
       "      <th></th>\n",
       "      <th>CustomerID</th>\n",
       "      <th>Churn</th>\n",
       "      <th>MonthlyRevenue</th>\n",
       "      <th>MonthlyMinutes</th>\n",
       "      <th>TotalRecurringCharge</th>\n",
       "      <th>DirectorAssistedCalls</th>\n",
       "      <th>OverageMinutes</th>\n",
       "      <th>RoamingCalls</th>\n",
       "      <th>PercChangeMinutes</th>\n",
       "      <th>PercChangeRevenues</th>\n",
       "      <th>...</th>\n",
       "      <th>ReferralsMadeBySubscriber</th>\n",
       "      <th>IncomeGroup</th>\n",
       "      <th>OwnsMotorcycle</th>\n",
       "      <th>AdjustmentsToCreditRating</th>\n",
       "      <th>HandsetPrice</th>\n",
       "      <th>MadeCallToRetentionTeam</th>\n",
       "      <th>CreditRating</th>\n",
       "      <th>PrizmCode</th>\n",
       "      <th>Occupation</th>\n",
       "      <th>MaritalStatus</th>\n",
       "    </tr>\n",
       "  </thead>\n",
       "  <tbody>\n",
       "    <tr>\n",
       "      <th>0</th>\n",
       "      <td>3000002</td>\n",
       "      <td>Yes</td>\n",
       "      <td>24.00</td>\n",
       "      <td>219.0</td>\n",
       "      <td>22.0</td>\n",
       "      <td>0.25</td>\n",
       "      <td>0.0</td>\n",
       "      <td>0.0</td>\n",
       "      <td>-157.0</td>\n",
       "      <td>-19.0</td>\n",
       "      <td>...</td>\n",
       "      <td>0</td>\n",
       "      <td>4</td>\n",
       "      <td>No</td>\n",
       "      <td>0</td>\n",
       "      <td>30</td>\n",
       "      <td>Yes</td>\n",
       "      <td>1-Highest</td>\n",
       "      <td>Suburban</td>\n",
       "      <td>Professional</td>\n",
       "      <td>No</td>\n",
       "    </tr>\n",
       "    <tr>\n",
       "      <th>1</th>\n",
       "      <td>3000010</td>\n",
       "      <td>Yes</td>\n",
       "      <td>16.99</td>\n",
       "      <td>10.0</td>\n",
       "      <td>17.0</td>\n",
       "      <td>0.00</td>\n",
       "      <td>0.0</td>\n",
       "      <td>0.0</td>\n",
       "      <td>-4.0</td>\n",
       "      <td>0.0</td>\n",
       "      <td>...</td>\n",
       "      <td>0</td>\n",
       "      <td>5</td>\n",
       "      <td>No</td>\n",
       "      <td>0</td>\n",
       "      <td>30</td>\n",
       "      <td>No</td>\n",
       "      <td>4-Medium</td>\n",
       "      <td>Suburban</td>\n",
       "      <td>Professional</td>\n",
       "      <td>Yes</td>\n",
       "    </tr>\n",
       "    <tr>\n",
       "      <th>2</th>\n",
       "      <td>3000014</td>\n",
       "      <td>No</td>\n",
       "      <td>38.00</td>\n",
       "      <td>8.0</td>\n",
       "      <td>38.0</td>\n",
       "      <td>0.00</td>\n",
       "      <td>0.0</td>\n",
       "      <td>0.0</td>\n",
       "      <td>-2.0</td>\n",
       "      <td>0.0</td>\n",
       "      <td>...</td>\n",
       "      <td>0</td>\n",
       "      <td>6</td>\n",
       "      <td>No</td>\n",
       "      <td>0</td>\n",
       "      <td>Unknown</td>\n",
       "      <td>No</td>\n",
       "      <td>3-Good</td>\n",
       "      <td>Town</td>\n",
       "      <td>Crafts</td>\n",
       "      <td>Yes</td>\n",
       "    </tr>\n",
       "    <tr>\n",
       "      <th>3</th>\n",
       "      <td>3000022</td>\n",
       "      <td>No</td>\n",
       "      <td>82.28</td>\n",
       "      <td>1312.0</td>\n",
       "      <td>75.0</td>\n",
       "      <td>1.24</td>\n",
       "      <td>0.0</td>\n",
       "      <td>0.0</td>\n",
       "      <td>157.0</td>\n",
       "      <td>8.1</td>\n",
       "      <td>...</td>\n",
       "      <td>0</td>\n",
       "      <td>6</td>\n",
       "      <td>No</td>\n",
       "      <td>0</td>\n",
       "      <td>10</td>\n",
       "      <td>No</td>\n",
       "      <td>4-Medium</td>\n",
       "      <td>Other</td>\n",
       "      <td>Other</td>\n",
       "      <td>No</td>\n",
       "    </tr>\n",
       "    <tr>\n",
       "      <th>4</th>\n",
       "      <td>3000026</td>\n",
       "      <td>Yes</td>\n",
       "      <td>17.14</td>\n",
       "      <td>0.0</td>\n",
       "      <td>17.0</td>\n",
       "      <td>0.00</td>\n",
       "      <td>0.0</td>\n",
       "      <td>0.0</td>\n",
       "      <td>0.0</td>\n",
       "      <td>-0.2</td>\n",
       "      <td>...</td>\n",
       "      <td>0</td>\n",
       "      <td>9</td>\n",
       "      <td>No</td>\n",
       "      <td>1</td>\n",
       "      <td>10</td>\n",
       "      <td>No</td>\n",
       "      <td>1-Highest</td>\n",
       "      <td>Other</td>\n",
       "      <td>Professional</td>\n",
       "      <td>Yes</td>\n",
       "    </tr>\n",
       "  </tbody>\n",
       "</table>\n",
       "<p>5 rows × 58 columns</p>\n",
       "</div>"
      ],
      "text/plain": [
       "   CustomerID Churn  MonthlyRevenue  MonthlyMinutes  TotalRecurringCharge  \\\n",
       "0     3000002   Yes           24.00           219.0                  22.0   \n",
       "1     3000010   Yes           16.99            10.0                  17.0   \n",
       "2     3000014    No           38.00             8.0                  38.0   \n",
       "3     3000022    No           82.28          1312.0                  75.0   \n",
       "4     3000026   Yes           17.14             0.0                  17.0   \n",
       "\n",
       "   DirectorAssistedCalls  OverageMinutes  RoamingCalls  PercChangeMinutes  \\\n",
       "0                   0.25             0.0           0.0             -157.0   \n",
       "1                   0.00             0.0           0.0               -4.0   \n",
       "2                   0.00             0.0           0.0               -2.0   \n",
       "3                   1.24             0.0           0.0              157.0   \n",
       "4                   0.00             0.0           0.0                0.0   \n",
       "\n",
       "   PercChangeRevenues  ...  ReferralsMadeBySubscriber  IncomeGroup  \\\n",
       "0               -19.0  ...                          0            4   \n",
       "1                 0.0  ...                          0            5   \n",
       "2                 0.0  ...                          0            6   \n",
       "3                 8.1  ...                          0            6   \n",
       "4                -0.2  ...                          0            9   \n",
       "\n",
       "   OwnsMotorcycle  AdjustmentsToCreditRating  HandsetPrice  \\\n",
       "0              No                          0            30   \n",
       "1              No                          0            30   \n",
       "2              No                          0       Unknown   \n",
       "3              No                          0            10   \n",
       "4              No                          1            10   \n",
       "\n",
       "   MadeCallToRetentionTeam  CreditRating  PrizmCode    Occupation  \\\n",
       "0                      Yes     1-Highest   Suburban  Professional   \n",
       "1                       No      4-Medium   Suburban  Professional   \n",
       "2                       No        3-Good       Town        Crafts   \n",
       "3                       No      4-Medium      Other         Other   \n",
       "4                       No     1-Highest      Other  Professional   \n",
       "\n",
       "   MaritalStatus  \n",
       "0             No  \n",
       "1            Yes  \n",
       "2            Yes  \n",
       "3             No  \n",
       "4            Yes  \n",
       "\n",
       "[5 rows x 58 columns]"
      ]
     },
     "execution_count": 6,
     "metadata": {},
     "output_type": "execute_result"
    }
   ],
   "source": [
    "train.head()"
   ]
  },
  {
   "cell_type": "markdown",
   "id": "b3614062",
   "metadata": {},
   "source": [
    "#### Examining the Chrun Column of the Traning Dataset"
   ]
  },
  {
   "cell_type": "code",
   "execution_count": 7,
   "id": "290fb2bb",
   "metadata": {},
   "outputs": [
    {
     "data": {
      "text/plain": [
       "0        Yes\n",
       "1        Yes\n",
       "2         No\n",
       "3         No\n",
       "4        Yes\n",
       "        ... \n",
       "51042    Yes\n",
       "51043     No\n",
       "51044    Yes\n",
       "51045     No\n",
       "51046     No\n",
       "Name: Churn, Length: 51047, dtype: object"
      ]
     },
     "execution_count": 7,
     "metadata": {},
     "output_type": "execute_result"
    }
   ],
   "source": [
    "train['Churn']"
   ]
  },
  {
   "cell_type": "markdown",
   "id": "505c62bd",
   "metadata": {},
   "source": [
    "## EDA"
   ]
  },
  {
   "cell_type": "code",
   "execution_count": 8,
   "id": "4bce4385",
   "metadata": {},
   "outputs": [],
   "source": [
    "churn_df=train[train['Churn']=='Yes']\n",
    "non_churn_df= train[train['Churn']=='No']"
   ]
  },
  {
   "cell_type": "code",
   "execution_count": 9,
   "id": "f0021432",
   "metadata": {},
   "outputs": [],
   "source": [
    "churned= train[train['Churn']=='Yes'].shape[0]"
   ]
  },
  {
   "cell_type": "code",
   "execution_count": 10,
   "id": "bf1ea425",
   "metadata": {},
   "outputs": [],
   "source": [
    "notchurned= train[train['Churn']=='No'].shape[0]"
   ]
  },
  {
   "cell_type": "code",
   "execution_count": 11,
   "id": "56da1d85",
   "metadata": {},
   "outputs": [
    {
     "name": "stdout",
     "output_type": "stream",
     "text": [
      "Total Churned customer 36336 \n"
     ]
    }
   ],
   "source": [
    "print(\"Total Churned customer {} \".format(notchurned))"
   ]
  },
  {
   "cell_type": "code",
   "execution_count": 12,
   "id": "fc8a82d3",
   "metadata": {},
   "outputs": [],
   "source": [
    "#Do all imports\n",
    "import pandas as pd\n",
    "from matplotlib import pyplot as plt"
   ]
  },
  {
   "cell_type": "code",
   "execution_count": 13,
   "id": "317de2a1",
   "metadata": {},
   "outputs": [
    {
     "data": {
      "image/png": "[encoded data removed]",
      "text/plain": [
       "<Figure size 432x288 with 1 Axes>"
      ]
     },
     "metadata": {},
     "output_type": "display_data"
    }
   ],
   "source": [
    "import matplotlib.pyplot as plt\n",
    "import numpy as np\n",
    "\n",
    "y = np.array([14711, 36336 ])\n",
    "mylabels = [\"Churned\", \"notchurned\"]\n",
    "\n",
    "\n",
    "def func(pct):\n",
    "  return \"{:1.1f}%\".format(pct)\n",
    " \n",
    "plt.pie(y, labels=mylabels, autopct=lambda pct: func(pct), shadow=True)\n",
    "plt.title('Churned Customers')\n",
    "plt.axis('equal')\n",
    "plt.show()"
   ]
  },
  {
   "cell_type": "code",
   "execution_count": 14,
   "id": "499b5b0a",
   "metadata": {},
   "outputs": [
    {
     "data": {
      "text/plain": [
       "156"
      ]
     },
     "execution_count": 14,
     "metadata": {},
     "output_type": "execute_result"
    }
   ],
   "source": [
    "train['MonthlyRevenue'].isnull().sum()"
   ]
  },
  {
   "cell_type": "code",
   "execution_count": 15,
   "id": "08826bc2",
   "metadata": {},
   "outputs": [],
   "source": [
    "total_monthly_rev=train['MonthlyRevenue'].sum()\n",
    "total_churned_rev=churn_df['MonthlyRevenue'].sum()\n",
    "total_nonchrun_rev=non_churn_df['MonthlyRevenue'].sum()"
   ]
  },
  {
   "cell_type": "code",
   "execution_count": 16,
   "id": "004b129a",
   "metadata": {},
   "outputs": [
    {
     "name": "stdout",
     "output_type": "stream",
     "text": [
      "2994146.1500000004 849105.3899999999 2145040.76\n"
     ]
    }
   ],
   "source": [
    "print(total_monthly_rev,total_churned_rev,total_nonchrun_rev)"
   ]
  },
  {
   "cell_type": "code",
   "execution_count": 17,
   "id": "246a1771",
   "metadata": {},
   "outputs": [
    {
     "name": "stderr",
     "output_type": "stream",
     "text": [
      "C:\\Users\\rdrl\\anaconda3\\lib\\site-packages\\pandas\\core\\generic.py:6392: SettingWithCopyWarning: \n",
      "A value is trying to be set on a copy of a slice from a DataFrame\n",
      "\n",
      "See the caveats in the documentation: https://pandas.pydata.org/pandas-docs/stable/user_guide/indexing.html#returning-a-view-versus-a-copy\n",
      "  return self._update_inplace(result)\n"
     ]
    }
   ],
   "source": [
    "non_churn_df['MonthlyRevenue'].fillna(non_churn_df['MonthlyRevenue'].mean(),inplace=True)"
   ]
  },
  {
   "cell_type": "code",
   "execution_count": 18,
   "id": "ff12d0f1",
   "metadata": {},
   "outputs": [],
   "source": [
    "churn_df['MonthlyRevenue'].fillna(churn_df['MonthlyRevenue'].mean(),inplace=True)\n"
   ]
  },
  {
   "cell_type": "code",
   "execution_count": 19,
   "id": "5793880d",
   "metadata": {},
   "outputs": [
    {
     "data": {
      "image/png": "[encoded data removed]",
      "text/plain": [
       "<Figure size 432x288 with 1 Axes>"
      ]
     },
     "metadata": {
      "needs_background": "light"
     },
     "output_type": "display_data"
    }
   ],
   "source": [
    "plt.hist(non_churn_df['MonthlyRevenue'],bins=[0,50,100,150,200,250,300,350,400,450,500],alpha=0.5, label='Non Churn customer')\n",
    "plt.hist(churn_df['MonthlyRevenue'],bins=[0,50,100,150,200,250,300,350,400,450,500],alpha=0.5,label='Churn customer')\n",
    "plt.ylabel(\"No of customers\")\n",
    "plt.xlabel(\"Monthly revenue\")\n",
    "plt.legend()\n",
    "plt.tight_layout()\n",
    "plt.title('Revenue Distribution')\n",
    "plt.show()"
   ]
  },
  {
   "cell_type": "markdown",
   "id": "d4ee47aa",
   "metadata": {},
   "source": [
    "#### Encoding Values in Churn Column for easy computation : Yes:1 , No:0"
   ]
  },
  {
   "cell_type": "code",
   "execution_count": 20,
   "id": "bf42e27b",
   "metadata": {},
   "outputs": [],
   "source": [
    "#Churn : Yes:1 , No:0\n",
    "Churn = {'Yes': 1,'No': 0} \n",
    "  \n",
    "train.Churn = [Churn[item] for item in train.Churn] "
   ]
  },
  {
   "cell_type": "code",
   "execution_count": 21,
   "id": "37382a39",
   "metadata": {},
   "outputs": [
    {
     "data": {
      "text/plain": [
       "0        1\n",
       "1        1\n",
       "2        0\n",
       "3        0\n",
       "4        1\n",
       "        ..\n",
       "51042    1\n",
       "51043    0\n",
       "51044    1\n",
       "51045    0\n",
       "51046    0\n",
       "Name: Churn, Length: 51047, dtype: int64"
      ]
     },
     "execution_count": 21,
     "metadata": {},
     "output_type": "execute_result"
    }
   ],
   "source": [
    "train['Churn']"
   ]
  },
  {
   "cell_type": "code",
   "execution_count": 22,
   "id": "f94e0594",
   "metadata": {},
   "outputs": [
    {
     "name": "stdout",
     "output_type": "stream",
     "text": [
      "Total no. of Columns with Missing/NA Values :  14\n",
      "\n",
      "Name of the Columns with Missing Values : \n",
      "MonthlyRevenue\n",
      "MonthlyMinutes\n",
      "TotalRecurringCharge\n",
      "DirectorAssistedCalls\n",
      "OverageMinutes\n",
      "RoamingCalls\n",
      "PercChangeMinutes\n",
      "PercChangeRevenues\n",
      "ServiceArea\n",
      "Handsets\n",
      "HandsetModels\n",
      "CurrentEquipmentDays\n",
      "AgeHH1\n",
      "AgeHH2\n"
     ]
    }
   ],
   "source": [
    "Missing_cloumns = train.columns[train.isnull().any()]\n",
    "print(\"Total no. of Columns with Missing/NA Values : \", len(Missing_cloumns))\n",
    "print(\"\\nName of the Columns with Missing Values : \")\n",
    "for i in Missing_cloumns:\n",
    "      print(i)"
   ]
  },
  {
   "cell_type": "code",
   "execution_count": 23,
   "id": "7a0496c9",
   "metadata": {},
   "outputs": [],
   "source": [
    "#Replacing the NULL/Missing Values with 0\n",
    "train.replace(np.nan, 0, inplace=True)"
   ]
  },
  {
   "cell_type": "code",
   "execution_count": 24,
   "id": "f3971a0e",
   "metadata": {},
   "outputs": [
    {
     "name": "stdout",
     "output_type": "stream",
     "text": [
      "Total no. of Columns with Missing/NA Values :  0\n",
      "\n",
      "Name of the Columns with Missing Values : \n"
     ]
    }
   ],
   "source": [
    "#Checking if there's any missing value left in the dataset\n",
    "Missing_cloumns = train.columns[train.isnull().any()]\n",
    "print(\"Total no. of Columns with Missing/NA Values : \", len(Missing_cloumns))\n",
    "print(\"\\nName of the Columns with Missing Values : \")\n",
    "for i in Missing_cloumns:\n",
    "      print(i)"
   ]
  },
  {
   "cell_type": "code",
   "execution_count": 25,
   "id": "4e8a7811",
   "metadata": {},
   "outputs": [
    {
     "name": "stdout",
     "output_type": "stream",
     "text": [
      "\n",
      "Datatypes of the Columns\n",
      "--------------------------------\n",
      "\n",
      "Columns with 'int' datatype : \n",
      "CustomerID\n",
      "Churn\n",
      "MonthsInService\n",
      "UniqueSubs\n",
      "ActiveSubs\n",
      "RetentionCalls\n",
      "RetentionOffersAccepted\n",
      "ReferralsMadeBySubscriber\n",
      "IncomeGroup\n",
      "AdjustmentsToCreditRating\n",
      "\n",
      "--------------------------------\n",
      "Columns with 'float' datatype : \n",
      "MonthlyRevenue\n",
      "MonthlyMinutes\n",
      "TotalRecurringCharge\n",
      "DirectorAssistedCalls\n",
      "OverageMinutes\n",
      "RoamingCalls\n",
      "PercChangeMinutes\n",
      "PercChangeRevenues\n",
      "DroppedCalls\n",
      "BlockedCalls\n",
      "UnansweredCalls\n",
      "CustomerCareCalls\n",
      "ThreewayCalls\n",
      "ReceivedCalls\n",
      "OutboundCalls\n",
      "InboundCalls\n",
      "PeakCallsInOut\n",
      "OffPeakCallsInOut\n",
      "DroppedBlockedCalls\n",
      "CallForwardingCalls\n",
      "CallWaitingCalls\n",
      "Handsets\n",
      "HandsetModels\n",
      "CurrentEquipmentDays\n",
      "AgeHH1\n",
      "AgeHH2\n",
      "\n",
      "--------------------------------\n",
      "Columns with 'String' datatype : \n",
      "ServiceArea\n",
      "ChildrenInHH\n",
      "HandsetRefurbished\n",
      "HandsetWebCapable\n",
      "TruckOwner\n",
      "RVOwner\n",
      "Homeownership\n",
      "BuysViaMailOrder\n",
      "RespondsToMailOffers\n",
      "OptOutMailings\n",
      "NonUSTravel\n",
      "OwnsComputer\n",
      "HasCreditCard\n",
      "NewCellphoneUser\n",
      "NotNewCellphoneUser\n",
      "OwnsMotorcycle\n",
      "HandsetPrice\n",
      "MadeCallToRetentionTeam\n",
      "CreditRating\n",
      "PrizmCode\n",
      "Occupation\n",
      "MaritalStatus\n"
     ]
    }
   ],
   "source": [
    "print(\"\\nDatatypes of the Columns\")\n",
    "print('--------------------------------')\n",
    "print(\"\\nColumns with 'int' datatype : \")\n",
    "for i in list(train.select_dtypes(include=['int64']).columns):\n",
    "    print(i)\n",
    "\n",
    "print('\\n--------------------------------')\n",
    "print(\"Columns with 'float' datatype : \")\n",
    "for f in list(train.select_dtypes(include=['float64']).columns):\n",
    "    print(f)\n",
    "\n",
    "print('\\n--------------------------------')\n",
    "print(\"Columns with 'String' datatype : \")\n",
    "for s in list(train.select_dtypes(include=['object']).columns):\n",
    "    print(s)"
   ]
  },
  {
   "cell_type": "markdown",
   "id": "28d5062b",
   "metadata": {},
   "source": [
    "#### Encoding the String variables"
   ]
  },
  {
   "cell_type": "code",
   "execution_count": 26,
   "id": "07b90694",
   "metadata": {},
   "outputs": [],
   "source": [
    "from sklearn.preprocessing import LabelEncoder\n",
    "le = LabelEncoder()\n",
    "def Encoder(df):\n",
    "    for c in df.columns:\n",
    "        if df.dtypes[c] == object:\n",
    "            le.fit(df[c].astype(str))\n",
    "            df[c] = le.transform(df[c].astype(str))\n",
    "    return df"
   ]
  },
  {
   "cell_type": "code",
   "execution_count": 27,
   "id": "dc8d1418",
   "metadata": {},
   "outputs": [
    {
     "name": "stdout",
     "output_type": "stream",
     "text": [
      "Successfully Encoded the String Columns in Traning data\n"
     ]
    }
   ],
   "source": [
    "train = Encoder(train)\n",
    "print(\"Successfully Encoded the String Columns in Traning data\")"
   ]
  },
  {
   "cell_type": "code",
   "execution_count": 28,
   "id": "c7b9bdf1",
   "metadata": {},
   "outputs": [
    {
     "name": "stdout",
     "output_type": "stream",
     "text": [
      "Successfully Encoded the String Columns in Test data\n"
     ]
    }
   ],
   "source": [
    "test = Encoder(test)\n",
    "print(\"Successfully Encoded the String Columns in Test data\")"
   ]
  },
  {
   "cell_type": "code",
   "execution_count": 29,
   "id": "29d6530a",
   "metadata": {},
   "outputs": [
    {
     "name": "stdout",
     "output_type": "stream",
     "text": [
      "(20000, 57)\n"
     ]
    }
   ],
   "source": [
    "test = test.drop(columns=['Churn'],axis=1)\n",
    "print(test.shape)"
   ]
  },
  {
   "cell_type": "code",
   "execution_count": 30,
   "id": "b00156a4",
   "metadata": {},
   "outputs": [
    {
     "data": {
      "text/html": [
       "<div>\n",
       "<style scoped>\n",
       "    .dataframe tbody tr th:only-of-type {\n",
       "        vertical-align: middle;\n",
       "    }\n",
       "\n",
       "    .dataframe tbody tr th {\n",
       "        vertical-align: top;\n",
       "    }\n",
       "\n",
       "    .dataframe thead th {\n",
       "        text-align: right;\n",
       "    }\n",
       "</style>\n",
       "<table border=\"1\" class=\"dataframe\">\n",
       "  <thead>\n",
       "    <tr style=\"text-align: right;\">\n",
       "      <th>col_0</th>\n",
       "      <th>count</th>\n",
       "    </tr>\n",
       "    <tr>\n",
       "      <th>Churn</th>\n",
       "      <th></th>\n",
       "    </tr>\n",
       "  </thead>\n",
       "  <tbody>\n",
       "    <tr>\n",
       "      <th>0</th>\n",
       "      <td>36336</td>\n",
       "    </tr>\n",
       "    <tr>\n",
       "      <th>1</th>\n",
       "      <td>14711</td>\n",
       "    </tr>\n",
       "  </tbody>\n",
       "</table>\n",
       "</div>"
      ],
      "text/plain": [
       "col_0  count\n",
       "Churn       \n",
       "0      36336\n",
       "1      14711"
      ]
     },
     "execution_count": 30,
     "metadata": {},
     "output_type": "execute_result"
    }
   ],
   "source": [
    "# Checking the Frequency distribution of Churn Column in Training data\"\n",
    "train_chrn = pd.crosstab(index=train[\"Churn\"], columns=\"count\")      \n",
    "train_chrn"
   ]
  },
  {
   "cell_type": "code",
   "execution_count": 31,
   "id": "c5b7ca30",
   "metadata": {},
   "outputs": [
    {
     "data": {
      "image/png": "[encoded data removed]",
      "text/plain": [
       "<Figure size 432x288 with 1 Axes>"
      ]
     },
     "metadata": {
      "needs_background": "light"
     },
     "output_type": "display_data"
    }
   ],
   "source": [
    "# Distribution of Churn\n",
    "train.Churn.value_counts()[0:30].plot(kind='bar')\n",
    "plt.show()"
   ]
  },
  {
   "cell_type": "markdown",
   "id": "3f85f0a1",
   "metadata": {},
   "source": [
    "## Splitting Data"
   ]
  },
  {
   "cell_type": "code",
   "execution_count": 32,
   "id": "722f988b",
   "metadata": {},
   "outputs": [],
   "source": [
    "from sklearn.model_selection import train_test_split\n",
    "Y = train['Churn']\n",
    "X = train.drop(columns=['Churn'])\n",
    "X_train, X_test, Y_train, Y_test = train_test_split(X, Y, test_size=0.3, random_state=8)"
   ]
  },
  {
   "cell_type": "code",
   "execution_count": 33,
   "id": "cba650fd",
   "metadata": {},
   "outputs": [
    {
     "name": "stdout",
     "output_type": "stream",
     "text": [
      "X train shape:  (35732, 57)\n",
      "Y train shape:  (35732,)\n",
      "X test shape:  (15315, 57)\n",
      "Y test shape:  (15315,)\n"
     ]
    }
   ],
   "source": [
    "print('X train shape: ', X_train.shape)\n",
    "print('Y train shape: ', Y_train.shape)\n",
    "print('X test shape: ', X_test.shape)\n",
    "print('Y test shape: ', Y_test.shape)"
   ]
  },
  {
   "cell_type": "markdown",
   "id": "0b6d79d0",
   "metadata": {},
   "source": [
    "## Machine Learning Models"
   ]
  },
  {
   "cell_type": "markdown",
   "id": "9c117464",
   "metadata": {},
   "source": [
    "## Random Forest Classifier"
   ]
  },
  {
   "cell_type": "markdown",
   "id": "84678f24",
   "metadata": {},
   "source": [
    "### First Iteration of the Random Forest"
   ]
  },
  {
   "cell_type": "code",
   "execution_count": 164,
   "id": "31bde5ce",
   "metadata": {},
   "outputs": [
    {
     "name": "stdout",
     "output_type": "stream",
     "text": [
      "Training score = 1.0\n",
      "Test score = 0.7194253999347046\n"
     ]
    }
   ],
   "source": [
    "from sklearn.ensemble import RandomForestClassifier\n",
    "RF_1 = RandomForestClassifier()\n",
    "RF_1.fit(X_train, Y_train)"
   ]
  },
  {
   "cell_type": "code",
   "execution_count": 165,
   "id": "6dc66627",
   "metadata": {},
   "outputs": [
    {
     "data": {
      "image/png": "[encoded data removed]",
      "text/plain": [
       "<Figure size 432x288 with 2 Axes>"
      ]
     },
     "metadata": {
      "needs_background": "light"
     },
     "output_type": "display_data"
    }
   ],
   "source": [
    "from sklearn.metrics import confusion_matrix\n",
    "ypred = RF_1.predict(X_test)\n",
    "cm = confusion_matrix(Y_test, ypred)\n",
    "sns.heatmap(cm, annot=True, fmt='d')\n",
    "plt.title('Confusion Matrix')\n",
    "plt.show()"
   ]
  },
  {
   "cell_type": "code",
   "execution_count": 166,
   "id": "41153da5",
   "metadata": {},
   "outputs": [
    {
     "name": "stdout",
     "output_type": "stream",
     "text": [
      "Accuracy = 0.7194253999347046\n",
      "Precision = 0.6152716593245228\n",
      "Recall = 0.0940727436012573\n",
      "F1 Score = 0.1631937682570594\n"
     ]
    }
   ],
   "source": [
    "tn = cm[0,0]  #True Negative\n",
    "tp = cm[1,1]  #True Positives\n",
    "fp = cm[0,1]  #False Positives\n",
    "fn = cm[1,0]  #False Negatives\n",
    "\n",
    "accuracy = (tp+tn)/(tp+fn+fp+tn)\n",
    "precision = tp / (tp+fp)\n",
    "recall = tp / (tp+fn)\n",
    "f1 = 2*precision*recall / (precision+recall)\n",
    "\n",
    "print('Accuracy =',accuracy)\n",
    "print('Precision =', precision)\n",
    "print('Recall =', recall)\n",
    "print('F1 Score =', f1)"
   ]
  },
  {
   "cell_type": "code",
   "execution_count": 169,
   "id": "6cb7c890",
   "metadata": {},
   "outputs": [
    {
     "name": "stdout",
     "output_type": "stream",
     "text": [
      "ROC AUC = 0.6627403462630843\n"
     ]
    },
    {
     "data": {
      "image/png": "[encoded data removed]",
      "text/plain": [
       "<Figure size 432x288 with 1 Axes>"
      ]
     },
     "metadata": {
      "needs_background": "light"
     },
     "output_type": "display_data"
    }
   ],
   "source": [
    "from sklearn.metrics import roc_curve,roc_auc_score\n",
    "ypred = RF_1.predict_proba(X_test)\n",
    "fpr,tpr,threshold = roc_curve(Y_test,ypred[:,1])\n",
    "roc_auc = roc_auc_score(Y_test,ypred[:,1])\n",
    "\n",
    "print('ROC AUC =', roc_auc)\n",
    "plt.figure()\n",
    "lw = 2\n",
    "plt.plot(fpr,tpr,color='darkorange',lw=lw,label='ROC Curve (area = %0.2f)'%roc_auc)\n",
    "plt.plot([0,1],[0,1],color='navy',lw=lw,linestyle='--')\n",
    "plt.xlim([0.0, 1.0])\n",
    "plt.ylim([0.0, 1.05])\n",
    "plt.xlabel('FPR')\n",
    "plt.ylabel('TPR')\n",
    "plt.title('ROC Curve')\n",
    "plt.legend(loc='lower right')\n",
    "plt.show()"
   ]
  },
  {
   "cell_type": "markdown",
   "id": "f8916a53",
   "metadata": {},
   "source": [
    "### Second Iteration of the Random Forest"
   ]
  },
  {
   "cell_type": "code",
   "execution_count": 170,
   "id": "927c6901",
   "metadata": {},
   "outputs": [
    {
     "data": {
      "text/plain": [
       "RandomForestClassifier(n_estimators=150, n_jobs=-1, random_state=8)"
      ]
     },
     "execution_count": 170,
     "metadata": {},
     "output_type": "execute_result"
    }
   ],
   "source": [
    "RF_2 = RandomForestClassifier(n_estimators=150,random_state=8,n_jobs=-1)\n",
    "RF_2.fit(X_train, Y_train)"
   ]
  },
  {
   "cell_type": "code",
   "execution_count": 171,
   "id": "b983f07b",
   "metadata": {},
   "outputs": [
    {
     "data": {
      "image/png": "[encoded data removed]",
      "text/plain": [
       "<Figure size 432x288 with 2 Axes>"
      ]
     },
     "metadata": {
      "needs_background": "light"
     },
     "output_type": "display_data"
    }
   ],
   "source": [
    "from sklearn.metrics import confusion_matrix\n",
    "ypred = RF_2.predict(X_test)\n",
    "cm = confusion_matrix(Y_test, ypred)\n",
    "sns.heatmap(cm, annot=True, fmt='d')\n",
    "plt.title('Confusion Matrix')\n",
    "plt.show()"
   ]
  },
  {
   "cell_type": "code",
   "execution_count": 172,
   "id": "e2b2d634",
   "metadata": {},
   "outputs": [
    {
     "name": "stdout",
     "output_type": "stream",
     "text": [
      "Accuracy = 0.72033953640222\n",
      "Precision = 0.6399345335515548\n",
      "Recall = 0.08778625954198473\n",
      "F1 Score = 0.15439289239881537\n"
     ]
    }
   ],
   "source": [
    "tn = cm[0,0]  #True Negative\n",
    "tp = cm[1,1]  #True Positives\n",
    "fp = cm[0,1]  #False Positives\n",
    "fn = cm[1,0]  #False Negatives\n",
    "\n",
    "accuracy = (tp+tn)/(tp+fn+fp+tn)\n",
    "precision = tp / (tp+fp)\n",
    "recall = tp / (tp+fn)\n",
    "f1 = 2*precision*recall / (precision+recall)\n",
    "\n",
    "print('Accuracy =',accuracy)\n",
    "print('Precision =', precision)\n",
    "print('Recall =', recall)\n",
    "print('F1 Score =', f1)"
   ]
  },
  {
   "cell_type": "code",
   "execution_count": 173,
   "id": "bb13287a",
   "metadata": {},
   "outputs": [
    {
     "name": "stdout",
     "output_type": "stream",
     "text": [
      "ROC AUC = 0.6685083485660971\n"
     ]
    },
    {
     "data": {
      "image/png": "[encoded data removed]",
      "text/plain": [
       "<Figure size 432x288 with 1 Axes>"
      ]
     },
     "metadata": {
      "needs_background": "light"
     },
     "output_type": "display_data"
    }
   ],
   "source": [
    "from sklearn.metrics import roc_curve,roc_auc_score\n",
    "ypred = RF_2.predict_proba(X_test)\n",
    "fpr,tpr,threshold = roc_curve(Y_test,ypred[:,1])\n",
    "roc_auc = roc_auc_score(Y_test,ypred[:,1])\n",
    "\n",
    "print('ROC AUC =', roc_auc)\n",
    "plt.figure()\n",
    "lw = 2\n",
    "plt.plot(fpr,tpr,color='darkorange',lw=lw,label='ROC Curve (area = %0.2f)'%roc_auc)\n",
    "plt.plot([0,1],[0,1],color='navy',lw=lw,linestyle='--')\n",
    "plt.xlim([0.0, 1.0])\n",
    "plt.ylim([0.0, 1.05])\n",
    "plt.xlabel('FPR')\n",
    "plt.ylabel('TPR')\n",
    "plt.title('ROC Curve')\n",
    "plt.legend(loc='lower right')\n",
    "plt.show()"
   ]
  },
  {
   "cell_type": "markdown",
   "id": "495c86ed",
   "metadata": {},
   "source": [
    "## Naive bayes classification"
   ]
  },
  {
   "cell_type": "code",
   "execution_count": 174,
   "id": "9d38d6e5",
   "metadata": {},
   "outputs": [
    {
     "data": {
      "text/plain": [
       "GaussianNB()"
      ]
     },
     "execution_count": 174,
     "metadata": {},
     "output_type": "execute_result"
    }
   ],
   "source": [
    "from sklearn.naive_bayes import GaussianNB\n",
    "\n",
    "# We define the model\n",
    "nb = GaussianNB()\n",
    "\n",
    "# We train model\n",
    "nb.fit(X_train, Y_train)"
   ]
  },
  {
   "cell_type": "code",
   "execution_count": 175,
   "id": "4c270bd9",
   "metadata": {},
   "outputs": [
    {
     "data": {
      "image/png": "[encoded data removed]",
      "text/plain": [
       "<Figure size 432x288 with 2 Axes>"
      ]
     },
     "metadata": {
      "needs_background": "light"
     },
     "output_type": "display_data"
    }
   ],
   "source": [
    "from sklearn.metrics import confusion_matrix\n",
    "ypred = nb.predict(X_test)\n",
    "cm = confusion_matrix(Y_test, ypred)\n",
    "sns.heatmap(cm, annot=True, fmt='d')\n",
    "plt.title('Confusion Matrix')\n",
    "plt.show()"
   ]
  },
  {
   "cell_type": "code",
   "execution_count": 176,
   "id": "9557a178",
   "metadata": {},
   "outputs": [
    {
     "name": "stdout",
     "output_type": "stream",
     "text": [
      "Accuracy = 0.6457068233757753\n",
      "Precision = 0.3614595210946408\n",
      "Recall = 0.2846879209699147\n",
      "F1 Score = 0.31851293644812867\n"
     ]
    }
   ],
   "source": [
    "tn = cm[0,0]  #True Negative\n",
    "tp = cm[1,1]  #True Positives\n",
    "fp = cm[0,1]  #False Positives\n",
    "fn = cm[1,0]  #False Negatives\n",
    "\n",
    "accuracy = (tp+tn)/(tp+fn+fp+tn)\n",
    "precision = tp / (tp+fp)\n",
    "recall = tp / (tp+fn)\n",
    "f1 = 2*precision*recall / (precision+recall)\n",
    "\n",
    "print('Accuracy =',accuracy)\n",
    "print('Precision =', precision)\n",
    "print('Recall =', recall)\n",
    "print('F1 Score =', f1)"
   ]
  },
  {
   "cell_type": "code",
   "execution_count": 177,
   "id": "38bfc4c1",
   "metadata": {},
   "outputs": [
    {
     "name": "stdout",
     "output_type": "stream",
     "text": [
      "ROC AUC = 0.5699640396111255\n"
     ]
    },
    {
     "data": {
      "image/png": "[encoded data removed]",
      "text/plain": [
       "<Figure size 432x288 with 1 Axes>"
      ]
     },
     "metadata": {
      "needs_background": "light"
     },
     "output_type": "display_data"
    }
   ],
   "source": [
    "from sklearn.metrics import roc_curve,roc_auc_score\n",
    "ypred = nb.predict_proba(X_test)\n",
    "fpr,tpr,threshold = roc_curve(Y_test,ypred[:,1])\n",
    "roc_auc = roc_auc_score(Y_test,ypred[:,1])\n",
    "\n",
    "print('ROC AUC =', roc_auc)\n",
    "plt.figure()\n",
    "lw = 2\n",
    "plt.plot(fpr,tpr,color='darkorange',lw=lw,label='ROC Curve (area = %0.2f)'%roc_auc)\n",
    "plt.plot([0,1],[0,1],color='navy',lw=lw,linestyle='--')\n",
    "plt.xlim([0.0, 1.0])\n",
    "plt.ylim([0.0, 1.05])\n",
    "plt.xlabel('FPR')\n",
    "plt.ylabel('TPR')\n",
    "plt.title('ROC Curve')\n",
    "plt.legend(loc='lower right')\n",
    "plt.show()"
   ]
  },
  {
   "cell_type": "markdown",
   "id": "0b3fa2ec",
   "metadata": {},
   "source": [
    "## Gradient Boosting "
   ]
  },
  {
   "cell_type": "markdown",
   "id": "5d7f5380",
   "metadata": {},
   "source": [
    "### First Iteration of the Gradient Boosting"
   ]
  },
  {
   "cell_type": "code",
   "execution_count": 178,
   "id": "dc178cd2",
   "metadata": {},
   "outputs": [
    {
     "data": {
      "text/plain": [
       "GradientBoostingClassifier()"
      ]
     },
     "execution_count": 178,
     "metadata": {},
     "output_type": "execute_result"
    }
   ],
   "source": [
    "from sklearn.ensemble import GradientBoostingClassifier\n",
    "gbm_model = GradientBoostingClassifier()\n",
    "\n",
    "# We train model\n",
    "gbm_model.fit(X_train, Y_train)"
   ]
  },
  {
   "cell_type": "code",
   "execution_count": 179,
   "id": "8118e9b6",
   "metadata": {},
   "outputs": [
    {
     "data": {
      "image/png": "[encoded data removed]",
      "text/plain": [
       "<Figure size 432x288 with 2 Axes>"
      ]
     },
     "metadata": {
      "needs_background": "light"
     },
     "output_type": "display_data"
    }
   ],
   "source": [
    "from sklearn.metrics import confusion_matrix\n",
    "ypred = gbm_model.predict(X_test)\n",
    "cm = confusion_matrix(Y_test, ypred)\n",
    "sns.heatmap(cm, annot=True, fmt='d')\n",
    "plt.title('Confusion Matrix')\n",
    "plt.show()"
   ]
  },
  {
   "cell_type": "code",
   "execution_count": 180,
   "id": "ca27d29a",
   "metadata": {},
   "outputs": [
    {
     "name": "stdout",
     "output_type": "stream",
     "text": [
      "Accuracy = 0.7179236043095005\n",
      "Precision = 0.6313725490196078\n",
      "Recall = 0.07229456668163449\n",
      "F1 Score = 0.12973408541498793\n"
     ]
    }
   ],
   "source": [
    "tn = cm[0,0]  #True Negative\n",
    "tp = cm[1,1]  #True Positives\n",
    "fp = cm[0,1]  #False Positives\n",
    "fn = cm[1,0]  #False Negatives\n",
    "\n",
    "accuracy = (tp+tn)/(tp+fn+fp+tn)\n",
    "precision = tp / (tp+fp)\n",
    "recall = tp / (tp+fn)\n",
    "f1 = 2*precision*recall / (precision+recall)\n",
    "\n",
    "print('Accuracy =',accuracy)\n",
    "print('Precision =', precision)\n",
    "print('Recall =', recall)\n",
    "print('F1 Score =', f1)"
   ]
  },
  {
   "cell_type": "code",
   "execution_count": 181,
   "id": "ffe0ba8e",
   "metadata": {},
   "outputs": [
    {
     "name": "stdout",
     "output_type": "stream",
     "text": [
      "ROC AUC = 0.6766064334942005\n"
     ]
    },
    {
     "data": {
      "image/png": "[encoded data removed]",
      "text/plain": [
       "<Figure size 432x288 with 1 Axes>"
      ]
     },
     "metadata": {
      "needs_background": "light"
     },
     "output_type": "display_data"
    }
   ],
   "source": [
    "from sklearn.metrics import roc_curve,roc_auc_score\n",
    "ypred = gbm_model.predict_proba(X_test)\n",
    "fpr,tpr,threshold = roc_curve(Y_test,ypred[:,1])\n",
    "roc_auc = roc_auc_score(Y_test,ypred[:,1])\n",
    "\n",
    "print('ROC AUC =', roc_auc)\n",
    "plt.figure()\n",
    "lw = 2\n",
    "plt.plot(fpr,tpr,color='darkorange',lw=lw,label='ROC Curve (area = %0.2f)'%roc_auc)\n",
    "plt.plot([0,1],[0,1],color='navy',lw=lw,linestyle='--')\n",
    "plt.xlim([0.0, 1.0])\n",
    "plt.ylim([0.0, 1.05])\n",
    "plt.xlabel('FPR')\n",
    "plt.ylabel('TPR')\n",
    "plt.title('ROC Curve')\n",
    "plt.legend(loc='lower right')\n",
    "plt.show()"
   ]
  },
  {
   "cell_type": "markdown",
   "id": "4d7348df",
   "metadata": {},
   "source": [
    "### Second Iteration of the Gradient Boosting"
   ]
  },
  {
   "cell_type": "code",
   "execution_count": 207,
   "id": "dcd2a011",
   "metadata": {},
   "outputs": [
    {
     "data": {
      "image/png": "[encoded data removed]",
      "text/plain": [
       "<Figure size 432x288 with 2 Axes>"
      ]
     },
     "metadata": {
      "needs_background": "light"
     },
     "output_type": "display_data"
    }
   ],
   "source": [
    "#Second Ieration\n",
    "\n",
    "from sklearn.ensemble import GradientBoostingClassifier\n",
    "gbm_model2 = GradientBoostingClassifier(learning_rate=0.1, n_estimators=100, max_depth=8, random_state=10)\n",
    "\n",
    "# We train model\n",
    "gbm_model2.fit(X_train, Y_train)\n",
    "\n",
    "from sklearn.metrics import confusion_matrix\n",
    "ypred = gbm_model2.predict(X_test)\n",
    "cm = confusion_matrix(Y_test, ypred)\n",
    "sns.heatmap(cm, annot=True, fmt='d')\n",
    "plt.title('Confusion Matrix')\n",
    "plt.show()\n"
   ]
  },
  {
   "cell_type": "code",
   "execution_count": 208,
   "id": "e01d7480",
   "metadata": {},
   "outputs": [
    {
     "name": "stdout",
     "output_type": "stream",
     "text": [
      "Accuracy = 0.7157035586026771\n",
      "Precision = 0.532051282051282\n",
      "Recall = 0.1863493488998653\n",
      "F1 Score = 0.2760226139008979\n"
     ]
    }
   ],
   "source": [
    "tn = cm[0,0]  #True Negative\n",
    "tp = cm[1,1]  #True Positives\n",
    "fp = cm[0,1]  #False Positives\n",
    "fn = cm[1,0]  #False Negatives\n",
    "\n",
    "accuracy = (tp+tn)/(tp+fn+fp+tn)\n",
    "precision = tp / (tp+fp)\n",
    "recall = tp / (tp+fn)\n",
    "f1 = 2*precision*recall / (precision+recall)\n",
    "\n",
    "print('Accuracy =',accuracy)\n",
    "print('Precision =', precision)\n",
    "print('Recall =', recall)\n",
    "print('F1 Score =', f1)"
   ]
  },
  {
   "cell_type": "code",
   "execution_count": 220,
   "id": "8a79cf83",
   "metadata": {},
   "outputs": [
    {
     "name": "stdout",
     "output_type": "stream",
     "text": [
      "ROC AUC = 0.6676605224189225\n"
     ]
    },
    {
     "data": {
      "image/png": "[encoded data removed]",
      "text/plain": [
       "<Figure size 432x288 with 1 Axes>"
      ]
     },
     "metadata": {
      "needs_background": "light"
     },
     "output_type": "display_data"
    }
   ],
   "source": [
    "from sklearn.metrics import roc_curve,roc_auc_score\n",
    "ypred = gbm_model2.predict_proba(X_test)\n",
    "fpr,tpr,threshold = roc_curve(Y_test,ypred[:,1])\n",
    "roc_auc = roc_auc_score(Y_test,ypred[:,1])\n",
    "\n",
    "print('ROC AUC =', roc_auc)\n",
    "plt.figure()\n",
    "lw = 2\n",
    "plt.plot(fpr,tpr,color='darkorange',lw=lw,label='ROC Curve (area = %0.2f)'%roc_auc)\n",
    "plt.plot([0,1],[0,1],color='navy',lw=lw,linestyle='--')\n",
    "plt.xlim([0.0, 1.0])\n",
    "plt.ylim([0.0, 1.05])\n",
    "plt.xlabel('FPR')\n",
    "plt.ylabel('TPR')\n",
    "plt.title('ROC Curve')\n",
    "plt.legend(loc='lower right')\n",
    "plt.show()"
   ]
  },
  {
   "cell_type": "markdown",
   "id": "0977502c",
   "metadata": {},
   "source": [
    "## LightGBM"
   ]
  },
  {
   "cell_type": "code",
   "execution_count": 182,
   "id": "ef1c931c",
   "metadata": {},
   "outputs": [
    {
     "data": {
      "text/plain": [
       "LGBMClassifier()"
      ]
     },
     "execution_count": 182,
     "metadata": {},
     "output_type": "execute_result"
    }
   ],
   "source": [
    "from lightgbm import LGBMClassifier\n",
    "\n",
    "lgbm_model = LGBMClassifier()\n",
    "\n",
    "# We train model\n",
    "lgbm_model.fit(X_train, Y_train)"
   ]
  },
  {
   "cell_type": "code",
   "execution_count": 183,
   "id": "aaa5c292",
   "metadata": {},
   "outputs": [
    {
     "data": {
      "image/png": "[encoded data removed]",
      "text/plain": [
       "<Figure size 432x288 with 2 Axes>"
      ]
     },
     "metadata": {
      "needs_background": "light"
     },
     "output_type": "display_data"
    }
   ],
   "source": [
    "from sklearn.metrics import confusion_matrix\n",
    "ypred = lgbm_model.predict(X_test)\n",
    "cm = confusion_matrix(Y_test, ypred)\n",
    "sns.heatmap(cm, annot=True, fmt='d')\n",
    "plt.title('Confusion Matrix')\n",
    "plt.show()"
   ]
  },
  {
   "cell_type": "code",
   "execution_count": 184,
   "id": "eb4c5006",
   "metadata": {},
   "outputs": [
    {
     "name": "stdout",
     "output_type": "stream",
     "text": [
      "Accuracy = 0.7221025138752857\n",
      "Precision = 0.6097560975609756\n",
      "Recall = 0.12348450830713965\n",
      "F1 Score = 0.20537714712471997\n"
     ]
    }
   ],
   "source": [
    "tn = cm[0,0]  #True Negative\n",
    "tp = cm[1,1]  #True Positives\n",
    "fp = cm[0,1]  #False Positives\n",
    "fn = cm[1,0]  #False Negatives\n",
    "\n",
    "accuracy = (tp+tn)/(tp+fn+fp+tn)\n",
    "precision = tp / (tp+fp)\n",
    "recall = tp / (tp+fn)\n",
    "f1 = 2*precision*recall / (precision+recall)\n",
    "\n",
    "print('Accuracy =',accuracy)\n",
    "print('Precision =', precision)\n",
    "print('Recall =', recall)\n",
    "print('F1 Score =', f1)"
   ]
  },
  {
   "cell_type": "code",
   "execution_count": 185,
   "id": "733a415b",
   "metadata": {},
   "outputs": [
    {
     "name": "stdout",
     "output_type": "stream",
     "text": [
      "ROC AUC = 0.6819125019684797\n"
     ]
    },
    {
     "data": {
      "image/png": "[encoded data removed]",
      "text/plain": [
       "<Figure size 432x288 with 1 Axes>"
      ]
     },
     "metadata": {
      "needs_background": "light"
     },
     "output_type": "display_data"
    }
   ],
   "source": [
    "from sklearn.metrics import roc_curve,roc_auc_score\n",
    "ypred = lgbm_model.predict_proba(X_test)\n",
    "fpr,tpr,threshold = roc_curve(Y_test,ypred[:,1])\n",
    "roc_auc = roc_auc_score(Y_test,ypred[:,1])\n",
    "\n",
    "print('ROC AUC =', roc_auc)\n",
    "plt.figure()\n",
    "lw = 2\n",
    "plt.plot(fpr,tpr,color='darkorange',lw=lw,label='ROC Curve (area = %0.2f)'%roc_auc)\n",
    "plt.plot([0,1],[0,1],color='navy',lw=lw,linestyle='--')\n",
    "plt.xlim([0.0, 1.0])\n",
    "plt.ylim([0.0, 1.05])\n",
    "plt.xlabel('FPR')\n",
    "plt.ylabel('TPR')\n",
    "plt.title('ROC Curve')\n",
    "plt.legend(loc='lower right')\n",
    "plt.show()"
   ]
  },
  {
   "cell_type": "markdown",
   "id": "12c7b924",
   "metadata": {},
   "source": [
    "## KNN"
   ]
  },
  {
   "cell_type": "code",
   "execution_count": 186,
   "id": "5c8eb196",
   "metadata": {},
   "outputs": [
    {
     "data": {
      "text/plain": [
       "KNeighborsClassifier()"
      ]
     },
     "execution_count": 186,
     "metadata": {},
     "output_type": "execute_result"
    }
   ],
   "source": [
    "from sklearn.neighbors import KNeighborsClassifier\n",
    "\n",
    "knn_model = KNeighborsClassifier()\n",
    "\n",
    "# We train model\n",
    "knn_model.fit(X_train, Y_train)"
   ]
  },
  {
   "cell_type": "code",
   "execution_count": 187,
   "id": "d00f1f41",
   "metadata": {},
   "outputs": [
    {
     "data": {
      "image/png": "[encoded data removed]",
      "text/plain": [
       "<Figure size 432x288 with 2 Axes>"
      ]
     },
     "metadata": {
      "needs_background": "light"
     },
     "output_type": "display_data"
    }
   ],
   "source": [
    "from sklearn.metrics import confusion_matrix\n",
    "ypred = knn_model.predict(X_test)\n",
    "cm = confusion_matrix(Y_test, ypred)\n",
    "sns.heatmap(cm, annot=True, fmt='d')\n",
    "plt.title('Confusion Matrix')\n",
    "plt.show()"
   ]
  },
  {
   "cell_type": "code",
   "execution_count": 188,
   "id": "5897e285",
   "metadata": {},
   "outputs": [
    {
     "name": "stdout",
     "output_type": "stream",
     "text": [
      "Accuracy = 0.6570682337577538\n",
      "Precision = 0.3232949512843224\n",
      "Recall = 0.163897620116749\n",
      "F1 Score = 0.21752085816448152\n"
     ]
    }
   ],
   "source": [
    "tn = cm[0,0]  #True Negative\n",
    "tp = cm[1,1]  #True Positives\n",
    "fp = cm[0,1]  #False Positives\n",
    "fn = cm[1,0]  #False Negatives\n",
    "\n",
    "accuracy = (tp+tn)/(tp+fn+fp+tn)\n",
    "precision = tp / (tp+fp)\n",
    "recall = tp / (tp+fn)\n",
    "f1 = 2*precision*recall / (precision+recall)\n",
    "\n",
    "print('Accuracy =',accuracy)\n",
    "print('Precision =', precision)\n",
    "print('Recall =', recall)\n",
    "print('F1 Score =', f1)"
   ]
  },
  {
   "cell_type": "code",
   "execution_count": 189,
   "id": "ba14f1eb",
   "metadata": {},
   "outputs": [
    {
     "name": "stdout",
     "output_type": "stream",
     "text": [
      "ROC AUC = 0.5259917985556724\n"
     ]
    },
    {
     "data": {
      "image/png": "[encoded data removed]",
      "text/plain": [
       "<Figure size 432x288 with 1 Axes>"
      ]
     },
     "metadata": {
      "needs_background": "light"
     },
     "output_type": "display_data"
    }
   ],
   "source": [
    "from sklearn.metrics import roc_curve,roc_auc_score\n",
    "ypred = knn_model.predict_proba(X_test)\n",
    "fpr,tpr,threshold = roc_curve(Y_test,ypred[:,1])\n",
    "roc_auc = roc_auc_score(Y_test,ypred[:,1])\n",
    "\n",
    "print('ROC AUC =', roc_auc)\n",
    "plt.figure()\n",
    "lw = 2\n",
    "plt.plot(fpr,tpr,color='darkorange',lw=lw,label='ROC Curve (area = %0.2f)'%roc_auc)\n",
    "plt.plot([0,1],[0,1],color='navy',lw=lw,linestyle='--')\n",
    "plt.xlim([0.0, 1.0])\n",
    "plt.ylim([0.0, 1.05])\n",
    "plt.xlabel('FPR')\n",
    "plt.ylabel('TPR')\n",
    "plt.title('ROC Curve')\n",
    "plt.legend(loc='lower right')\n",
    "plt.show()"
   ]
  },
  {
   "cell_type": "markdown",
   "id": "328517de",
   "metadata": {},
   "source": [
    "## Decision Tree"
   ]
  },
  {
   "cell_type": "markdown",
   "id": "c32f8bcc",
   "metadata": {},
   "source": [
    "### First Iteration of the Decision Tree "
   ]
  },
  {
   "cell_type": "code",
   "execution_count": 190,
   "id": "6df03d85",
   "metadata": {},
   "outputs": [
    {
     "data": {
      "text/plain": [
       "DecisionTreeClassifier()"
      ]
     },
     "execution_count": 190,
     "metadata": {},
     "output_type": "execute_result"
    }
   ],
   "source": [
    "from sklearn.tree import DecisionTreeClassifier\n",
    "\n",
    "dt_model = DecisionTreeClassifier()\n",
    "\n",
    "# We train model\n",
    "dt_model.fit(X_train, Y_train)"
   ]
  },
  {
   "cell_type": "code",
   "execution_count": 191,
   "id": "491685b6",
   "metadata": {},
   "outputs": [
    {
     "data": {
      "image/png": "[encoded data removed]",
      "text/plain": [
       "<Figure size 432x288 with 2 Axes>"
      ]
     },
     "metadata": {
      "needs_background": "light"
     },
     "output_type": "display_data"
    }
   ],
   "source": [
    "from sklearn.metrics import confusion_matrix\n",
    "ypred = dt_model.predict(X_test)\n",
    "cm = confusion_matrix(Y_test, ypred)\n",
    "sns.heatmap(cm, annot=True, fmt='d')\n",
    "plt.title('Confusion Matrix')\n",
    "plt.show()"
   ]
  },
  {
   "cell_type": "code",
   "execution_count": 192,
   "id": "4742ccba",
   "metadata": {},
   "outputs": [
    {
     "name": "stdout",
     "output_type": "stream",
     "text": [
      "Accuracy = 0.6220698661443029\n",
      "Precision = 0.35171187194308584\n",
      "Recall = 0.35518634934889987\n",
      "F1 Score = 0.3534405719392315\n"
     ]
    }
   ],
   "source": [
    "tn = cm[0,0]  #True Negative\n",
    "tp = cm[1,1]  #True Positives\n",
    "fp = cm[0,1]  #False Positives\n",
    "fn = cm[1,0]  #False Negatives\n",
    "\n",
    "accuracy = (tp+tn)/(tp+fn+fp+tn)\n",
    "precision = tp / (tp+fp)\n",
    "recall = tp / (tp+fn)\n",
    "f1 = 2*precision*recall / (precision+recall)\n",
    "\n",
    "print('Accuracy =',accuracy)\n",
    "print('Precision =', precision)\n",
    "print('Recall =', recall)\n",
    "print('F1 Score =', f1)"
   ]
  },
  {
   "cell_type": "code",
   "execution_count": 219,
   "id": "56eb3b19",
   "metadata": {},
   "outputs": [
    {
     "name": "stdout",
     "output_type": "stream",
     "text": [
      "ROC AUC = 0.5433513921498205\n"
     ]
    },
    {
     "data": {
      "image/png": "[encoded data removed]",
      "text/plain": [
       "<Figure size 432x288 with 1 Axes>"
      ]
     },
     "metadata": {
      "needs_background": "light"
     },
     "output_type": "display_data"
    }
   ],
   "source": [
    "from sklearn.metrics import roc_curve,roc_auc_score\n",
    "ypred = dt_model.predict_proba(X_test)\n",
    "fpr,tpr,threshold = roc_curve(Y_test,ypred[:,1])\n",
    "roc_auc = roc_auc_score(Y_test,ypred[:,1])\n",
    "\n",
    "print('ROC AUC =', roc_auc)\n",
    "plt.figure()\n",
    "lw = 2\n",
    "plt.plot(fpr,tpr,color='darkorange',lw=lw,label='ROC Curve (area = %0.2f)'%roc_auc)\n",
    "plt.plot([0,1],[0,1],color='navy',lw=lw,linestyle='--')\n",
    "plt.xlim([0.0, 1.0])\n",
    "plt.ylim([0.0, 1.05])\n",
    "plt.xlabel('FPR')\n",
    "plt.ylabel('TPR')\n",
    "plt.title('ROC Curve')\n",
    "plt.legend(loc='lower right')\n",
    "plt.show()"
   ]
  },
  {
   "cell_type": "markdown",
   "id": "412799ca",
   "metadata": {},
   "source": [
    "### Second Iteration of the Decision Tree"
   ]
  },
  {
   "cell_type": "code",
   "execution_count": 215,
   "id": "429c5fb3",
   "metadata": {},
   "outputs": [
    {
     "data": {
      "text/plain": [
       "DecisionTreeClassifier(max_depth=8, random_state=42)"
      ]
     },
     "execution_count": 215,
     "metadata": {},
     "output_type": "execute_result"
    }
   ],
   "source": [
    "#Second Iteration\n",
    "\n",
    "from sklearn.tree import DecisionTreeClassifier\n",
    "\n",
    "dt_model2 = DecisionTreeClassifier(max_depth = 8, random_state = 42)\n",
    "\n",
    "# We train model\n",
    "dt_model2.fit(X_train, Y_train)"
   ]
  },
  {
   "cell_type": "code",
   "execution_count": 216,
   "id": "ad62603e",
   "metadata": {},
   "outputs": [
    {
     "data": {
      "image/png": "[encoded data removed]",
      "text/plain": [
       "<Figure size 432x288 with 2 Axes>"
      ]
     },
     "metadata": {
      "needs_background": "light"
     },
     "output_type": "display_data"
    }
   ],
   "source": [
    "from sklearn.metrics import confusion_matrix\n",
    "ypred = dt_model2.predict(X_test)\n",
    "cm = confusion_matrix(Y_test, ypred)\n",
    "sns.heatmap(cm, annot=True, fmt='d')\n",
    "plt.title('Confusion Matrix')\n",
    "plt.show()"
   ]
  },
  {
   "cell_type": "code",
   "execution_count": 217,
   "id": "96b3f0b5",
   "metadata": {},
   "outputs": [
    {
     "name": "stdout",
     "output_type": "stream",
     "text": [
      "Accuracy = 0.7085863532484492\n",
      "Precision = 0.49518716577540106\n",
      "Recall = 0.10395150426582847\n",
      "F1 Score = 0.17183150862868807\n"
     ]
    }
   ],
   "source": [
    "tn = cm[0,0]  #True Negative\n",
    "tp = cm[1,1]  #True Positives\n",
    "fp = cm[0,1]  #False Positives\n",
    "fn = cm[1,0]  #False Negatives\n",
    "\n",
    "accuracy = (tp+tn)/(tp+fn+fp+tn)\n",
    "precision = tp / (tp+fp)\n",
    "recall = tp / (tp+fn)\n",
    "f1 = 2*precision*recall / (precision+recall)\n",
    "\n",
    "print('Accuracy =',accuracy)\n",
    "print('Precision =', precision)\n",
    "print('Recall =', recall)\n",
    "print('F1 Score =', f1)"
   ]
  },
  {
   "cell_type": "code",
   "execution_count": 218,
   "id": "19a83ea1",
   "metadata": {},
   "outputs": [
    {
     "name": "stdout",
     "output_type": "stream",
     "text": [
      "ROC AUC = 0.6349773396919485\n"
     ]
    },
    {
     "data": {
      "image/png": "[encoded data removed]",
      "text/plain": [
       "<Figure size 432x288 with 1 Axes>"
      ]
     },
     "metadata": {
      "needs_background": "light"
     },
     "output_type": "display_data"
    }
   ],
   "source": [
    "from sklearn.metrics import roc_curve,roc_auc_score\n",
    "ypred = dt_model2.predict_proba(X_test)\n",
    "fpr,tpr,threshold = roc_curve(Y_test,ypred[:,1])\n",
    "roc_auc = roc_auc_score(Y_test,ypred[:,1])\n",
    "\n",
    "print('ROC AUC =', roc_auc)\n",
    "plt.figure()\n",
    "lw = 2\n",
    "plt.plot(fpr,tpr,color='darkorange',lw=lw,label='ROC Curve (area = %0.2f)'%roc_auc)\n",
    "plt.plot([0,1],[0,1],color='navy',lw=lw,linestyle='--')\n",
    "plt.xlim([0.0, 1.0])\n",
    "plt.ylim([0.0, 1.05])\n",
    "plt.xlabel('FPR')\n",
    "plt.ylabel('TPR')\n",
    "plt.title('ROC Curve')\n",
    "plt.legend(loc='lower right')\n",
    "plt.show()"
   ]
  }
 ],
 "metadata": {
  "kernelspec": {
   "display_name": "Python 3 (ipykernel)",
   "language": "python",
   "name": "python3"
  },
  "language_info": {
   "codemirror_mode": {
    "name": "ipython",
    "version": 3
   },
   "file_extension": ".py",
   "mimetype": "text/x-python",
   "name": "python",
   "nbconvert_exporter": "python",
   "pygments_lexer": "ipython3",
   "version": "3.9.7"
  }
 },
 "nbformat": 4,
 "nbformat_minor": 5
}
